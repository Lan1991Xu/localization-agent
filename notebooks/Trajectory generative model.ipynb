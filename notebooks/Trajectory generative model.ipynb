{
 "cells": [
  {
   "cell_type": "code",
   "execution_count": 5,
   "metadata": {
    "collapsed": true
   },
   "outputs": [],
   "source": [
    "import pickle"
   ]
  },
  {
   "cell_type": "code",
   "execution_count": 6,
   "metadata": {
    "collapsed": true
   },
   "outputs": [],
   "source": [
    "trajFile = open('trajectoryParams.pkl', 'r')\n",
    "trajectories = pickle.load(trajFile)\n",
    "trajFile.close()"
   ]
  },
  {
   "cell_type": "code",
   "execution_count": 7,
   "metadata": {
    "collapsed": false
   },
   "outputs": [
    {
     "name": "stdout",
     "output_type": "stream",
     "text": [
      "Keys for 25 sequences: ['skating', 'bicycle', 'drunk', 'sphere', 'ball', 'gymnastics', 'hand1', 'hand2', 'diving', 'fish2', 'fish1', 'basketball', 'sunshade', 'polarbear', 'woman', 'bolt', 'surfing', 'tunnel', 'car', 'torus', 'fernando', 'david', 'jogging', 'trellis', 'motocross']\n"
     ]
    }
   ],
   "source": [
    "print 'Keys for {} sequences: {}'.format(len(trajectories.keys()), trajectories.keys())"
   ]
  },
  {
   "cell_type": "code",
   "execution_count": 1,
   "metadata": {
    "collapsed": false
   },
   "outputs": [
    {
     "name": "stdout",
     "output_type": "stream",
     "text": [
      "Populating the interactive namespace from numpy and matplotlib\n"
     ]
    }
   ],
   "source": [
    "%pylab inline --no-import-all\n",
    "import numpy\n",
    "import sklearn.mixture"
   ]
  },
  {
   "cell_type": "code",
   "execution_count": 2,
   "metadata": {
    "collapsed": true
   },
   "outputs": [],
   "source": [
    "LENGTH = 60"
   ]
  },
  {
   "cell_type": "code",
   "execution_count": 14,
   "metadata": {
    "collapsed": true
   },
   "outputs": [],
   "source": [
    "N_FEATURES = 8"
   ]
  },
  {
   "cell_type": "code",
   "execution_count": 29,
   "metadata": {
    "collapsed": true
   },
   "outputs": [],
   "source": [
    "samples = numpy.empty((LENGTH, N_FEATURES))"
   ]
  },
  {
   "cell_type": "code",
   "execution_count": 30,
   "metadata": {
    "collapsed": false
   },
   "outputs": [
    {
     "name": "stdout",
     "output_type": "stream",
     "text": [
      "skating length: (400, 8)\n",
      "bicycle length: (271, 8)\n",
      "drunk length: (1210, 8)\n",
      "sphere length: (201, 8)\n",
      "ball length: (603, 8)\n",
      "gymnastics length: (207, 8)\n",
      "hand1 length: (244, 8)\n",
      "hand2 length: (267, 8)\n",
      "diving length: (219, 8)\n",
      "fish2 length: (310, 8)\n",
      "fish1 length: (436, 8)\n",
      "basketball length: (725, 8)\n",
      "sunshade length: (172, 8)\n",
      "polarbear length: (371, 8)\n",
      "woman length: (597, 8)\n",
      "bolt length: (350, 8)\n",
      "surfing length: (282, 8)\n",
      "tunnel length: (731, 8)\n",
      "car length: (252, 8)\n",
      "torus length: (264, 8)\n",
      "fernando length: (292, 8)\n",
      "david length: (770, 8)\n",
      "jogging length: (307, 8)\n",
      "trellis length: (569, 8)\n",
      "motocross length: (164, 8)\n",
      "Total length: 10214\n"
     ]
    }
   ],
   "source": [
    "totalLength = 0\n",
    "for aSequence in trajectories.keys():\n",
    "    trajectory = trajectories[aSequence]\n",
    "    totalLength += trajectory.shape[0]\n",
    "    print '{} length: {}'.format(aSequence, trajectory.shape)\n",
    "    for start in numpy.arange(0, trajectory.shape[0]-LENGTH, LENGTH):\n",
    "        sample = trajectories[aSequence][start:start+LENGTH,:]\n",
    "        samples = numpy.dstack([samples, sample])\n",
    "print 'Total length: {}'.format(totalLength)"
   ]
  },
  {
   "cell_type": "code",
   "execution_count": 26,
   "metadata": {
    "collapsed": false
   },
   "outputs": [
    {
     "data": {
      "text/plain": [
       "(60, 8, 160)"
      ]
     },
     "execution_count": 26,
     "metadata": {},
     "output_type": "execute_result"
    }
   ],
   "source": [
    "samples.shape"
   ]
  },
  {
   "cell_type": "code",
   "execution_count": 27,
   "metadata": {
    "collapsed": false
   },
   "outputs": [
    {
     "data": {
      "text/plain": [
       "(60, 8)"
      ]
     },
     "execution_count": 27,
     "metadata": {},
     "output_type": "execute_result"
    }
   ],
   "source": [
    "sample.shape"
   ]
  },
  {
   "cell_type": "code",
   "execution_count": 28,
   "metadata": {
    "collapsed": false
   },
   "outputs": [
    {
     "data": {
      "text/plain": [
       "9600"
      ]
     },
     "execution_count": 28,
     "metadata": {},
     "output_type": "execute_result"
    }
   ],
   "source": [
    "samples.shape[-1]*LENGTH"
   ]
  },
  {
   "cell_type": "code",
   "execution_count": 42,
   "metadata": {
    "collapsed": true
   },
   "outputs": [],
   "source": [
    "flatSample = samples.reshape(LENGTH*N_FEATURES, samples.shape[2]).T"
   ]
  },
  {
   "cell_type": "code",
   "execution_count": 43,
   "metadata": {
    "collapsed": false
   },
   "outputs": [
    {
     "data": {
      "text/plain": [
       "(160, 480)"
      ]
     },
     "execution_count": 43,
     "metadata": {},
     "output_type": "execute_result"
    }
   ],
   "source": [
    "flatSample.shape"
   ]
  },
  {
   "cell_type": "code",
   "execution_count": 45,
   "metadata": {
    "collapsed": false
   },
   "outputs": [
    {
     "data": {
      "text/plain": [
       "0.0"
      ]
     },
     "execution_count": 45,
     "metadata": {},
     "output_type": "execute_result"
    }
   ],
   "source": [
    "(flatSample.T[:,0]-samples[0:LENGTH,:,0].ravel()).sum()"
   ]
  },
  {
   "cell_type": "code",
   "execution_count": 49,
   "metadata": {
    "collapsed": true
   },
   "outputs": [],
   "source": [
    "MIXTURES = 10"
   ]
  },
  {
   "cell_type": "code",
   "execution_count": 50,
   "metadata": {
    "collapsed": true
   },
   "outputs": [],
   "source": [
    "gmm = sklearn.mixture.GMM(n_components=MIXTURES)"
   ]
  },
  {
   "cell_type": "code",
   "execution_count": 51,
   "metadata": {
    "collapsed": false
   },
   "outputs": [
    {
     "name": "stdout",
     "output_type": "stream",
     "text": [
      "CPU times: user 120 ms, sys: 0 ns, total: 120 ms\n",
      "Wall time: 116 ms\n"
     ]
    },
    {
     "data": {
      "text/plain": [
       "GMM(covariance_type='diag', init_params='wmc', min_covar=0.001,\n",
       "  n_components=10, n_init=1, n_iter=100, params='wmc', random_state=None,\n",
       "  thresh=None, tol=0.001)"
      ]
     },
     "execution_count": 51,
     "metadata": {},
     "output_type": "execute_result"
    }
   ],
   "source": [
    "%time gmm.fit(flatSample)"
   ]
  },
  {
   "cell_type": "code",
   "execution_count": 52,
   "metadata": {
    "collapsed": false
   },
   "outputs": [
    {
     "name": "stdout",
     "output_type": "stream",
     "text": [
      "CPU times: user 24 ms, sys: 0 ns, total: 24 ms\n",
      "Wall time: 24.9 ms\n"
     ]
    }
   ],
   "source": [
    "%time predictedSample = gmm.sample(n_samples=samples.shape[-1])"
   ]
  },
  {
   "cell_type": "code",
   "execution_count": 53,
   "metadata": {
    "collapsed": true
   },
   "outputs": [],
   "source": [
    "def plot_params(path):\n",
    "    titles = ['$ tx $', '$ ty $', '$ sx $', '$ sy $', '$ \\\\theta $', '$ \\\\theta_{pv}$', 'product', 'ratio']\n",
    "    matplotlib.pyplot.figure()\n",
    "    matplotlib.pyplot.gcf().subplots_adjust(bottom=0.0, hspace=0.0)\n",
    "    for i in range(path.shape[1]):\n",
    "        axes = matplotlib.pyplot.subplot(int(path.shape[1]/2),2,i+1)\n",
    "        matplotlib.pyplot.plot(path[:,i])\n",
    "        if i < path.shape[1]-1:\n",
    "            matplotlib.pyplot.setp( axes.get_xticklabels(), visible=False)\n",
    "        matplotlib.pyplot.ylabel(titles[i])"
   ]
  },
  {
   "cell_type": "code",
   "execution_count": 55,
   "metadata": {
    "collapsed": false
   },
   "outputs": [
    {
     "data": {
      "image/png": "[encoded data removed]",
      "text/plain": [
       "<matplotlib.figure.Figure at 0x7f41e25b6110>"
      ]
     },
     "metadata": {},
     "output_type": "display_data"
    }
   ],
   "source": [
    "plot_params(predictedSample[20,:].reshape(LENGTH, N_FEATURES))"
   ]
  },
  {
   "cell_type": "code",
   "execution_count": null,
   "metadata": {
    "collapsed": true
   },
   "outputs": [],
   "source": []
  }
 ],
 "metadata": {
  "kernelspec": {
   "display_name": "Python 2",
   "language": "python",
   "name": "python2"
  },
  "language_info": {
   "codemirror_mode": {
    "name": "ipython",
    "version": 2
   },
   "file_extension": ".py",
   "mimetype": "text/x-python",
   "name": "python",
   "nbconvert_exporter": "python",
   "pygments_lexer": "ipython2",
   "version": "2.7.10"
  }
 },
 "nbformat": 4,
 "nbformat_minor": 0
}
