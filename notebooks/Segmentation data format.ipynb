{
 "cells": [
  {
   "cell_type": "markdown",
   "metadata": {},
   "source": [
    "This version of the segmentation formatting is derived from the COCO dataset as it was the first source for segmented objects, but it may be updated according to our particular needs  It is made by a dictionary stored at the following path: REPO/notebooks/cocoSummary.pkl."
   ]
  },
  {
   "cell_type": "code",
   "execution_count": 1,
   "metadata": {
    "collapsed": false
   },
   "outputs": [
    {
     "data": {
      "text/plain": [
       "u'/home/fmpaezri/repos/localization-agent/notebooks'"
      ]
     },
     "execution_count": 1,
     "metadata": {},
     "output_type": "execute_result"
    }
   ],
   "source": [
    "%pwd"
   ]
  },
  {
   "cell_type": "code",
   "execution_count": 2,
   "metadata": {
    "collapsed": true
   },
   "outputs": [],
   "source": [
    "import pickle\n",
    "\n",
    "with open('cocoSummary.pkl', 'r') as dataFile:\n",
    "    data = pickle.load(dataFile)"
   ]
  },
  {
   "cell_type": "code",
   "execution_count": 3,
   "metadata": {
    "collapsed": false
   },
   "outputs": [
    {
     "name": "stdout",
     "output_type": "stream",
     "text": [
      "<type 'dict'>\n",
      "['categories', 'summary']\n"
     ]
    }
   ],
   "source": [
    "print type(data)\n",
    "print data.keys()"
   ]
  },
  {
   "cell_type": "markdown",
   "metadata": {},
   "source": [
    "The 'categories' key maps to the category index, which is also a dictionary that maps category numbers to names."
   ]
  },
  {
   "cell_type": "code",
   "execution_count": 4,
   "metadata": {
    "collapsed": false
   },
   "outputs": [
    {
     "name": "stdout",
     "output_type": "stream",
     "text": [
      "{1: u'person', 2: u'bicycle', 3: u'car', 4: u'motorcycle', 5: u'airplane', 6: u'bus', 7: u'train', 8: u'truck', 9: u'boat', 10: u'traffic light', 11: u'fire hydrant', 13: u'stop sign', 14: u'parking meter', 15: u'bench', 16: u'bird', 17: u'cat', 18: u'dog', 19: u'horse', 20: u'sheep', 21: u'cow', 22: u'elephant', 23: u'bear', 24: u'zebra', 25: u'giraffe', 27: u'backpack', 28: u'umbrella', 31: u'handbag', 32: u'tie', 33: u'suitcase', 34: u'frisbee', 35: u'skis', 36: u'snowboard', 37: u'sports ball', 38: u'kite', 39: u'baseball bat', 40: u'baseball glove', 41: u'skateboard', 42: u'surfboard', 43: u'tennis racket', 44: u'bottle', 46: u'wine glass', 47: u'cup', 48: u'fork', 49: u'knife', 50: u'spoon', 51: u'bowl', 52: u'banana', 53: u'apple', 54: u'sandwich', 55: u'orange', 56: u'broccoli', 57: u'carrot', 58: u'hot dog', 59: u'pizza', 60: u'donut', 61: u'cake', 62: u'chair', 63: u'couch', 64: u'potted plant', 65: u'bed', 67: u'dining table', 70: u'toilet', 72: u'tv', 73: u'laptop', 74: u'mouse', 75: u'remote', 76: u'keyboard', 77: u'cell phone', 78: u'microwave', 79: u'oven', 80: u'toaster', 81: u'sink', 82: u'refrigerator', 84: u'book', 85: u'clock', 86: u'vase', 87: u'scissors', 88: u'teddy bear', 89: u'hair drier', 90: u'toothbrush'}\n"
     ]
    }
   ],
   "source": [
    "print data['categories']"
   ]
  },
  {
   "cell_type": "markdown",
   "metadata": {},
   "source": [
    "The 'summary' key maps to the metadata summary. This summary was generated from the COCO metadata by selecting only the fields currently neccesary for the simulations. It is a list with an entry per annotated segment, so an image may have multiple entries in the list. Let's see an example."
   ]
  },
  {
   "cell_type": "code",
   "execution_count": 5,
   "metadata": {
    "collapsed": false
   },
   "outputs": [
    {
     "name": "stdout",
     "output_type": "stream",
     "text": [
      "<type 'list'>\n",
      "4011\n",
      "<type 'dict'>\n",
      "Key: image_id\tType: <type 'int'>\tValue: 354306\n",
      "Key: segmentation\tType: <type 'list'>\tValue: [[156.11, 416.59, 152.97, 386.59, 154.32, 368.23, 158.79, 366.44, 158.79, 358.38, 156.11, 356.59, 156.55, 354.35, 160.58, 353.01, 160.58, 347.19, 166.85, 347.63, 167.75, 353.01, 169.99, 354.35, 169.99, 356.59, 168.2, 357.93, 168.2, 365.1, 172.23, 365.55, 175.36, 416.14]]\n",
      "Key: category_id\tType: <type 'int'>\tValue: 44\n",
      "Key: file_name\tType: <type 'unicode'>\tValue: COCO_train2014_000000354306.jpg\n"
     ]
    }
   ],
   "source": [
    "summary = data['summary']\n",
    "print type(summary)\n",
    "print len(summary)\n",
    "entry = summary[0]\n",
    "print type(entry)\n",
    "print '\\n'.join(\n",
    "    (\n",
    "        'Key: {}\\tType: {}\\tValue: {}'.format(key, type(value), value)\n",
    "        for key, value in entry.iteritems()\n",
    "    )\n",
    ")"
   ]
  },
  {
   "cell_type": "markdown",
   "metadata": {},
   "source": [
    "The stored values allow:\n",
    "    + the location of the file relative to the image folder,\n",
    "    + verification of the object category,\n",
    "    + object segmentation from polygon coordinate sequence,\n",
    "    + mapping back to the original metadata for the image in the COCO dataset."
   ]
  },
  {
   "cell_type": "code",
   "execution_count": 6,
   "metadata": {
    "collapsed": false
   },
   "outputs": [
    {
     "name": "stdout",
     "output_type": "stream",
     "text": [
      "Categories for the sample image in the entry object:\n",
      "[[u'bottle'], [u'bottle'], [u'bottle'], [u'bottle'], [u'bottle'], [u'bottle'], [u'bottle'], [u'bottle'], [u'toothbrush'], [u'sink'], [u'cup'], [u'toothbrush'], [u'bottle'], [u'bottle'], [u'bottle'], [u'bottle'], [u'bottle']]\n"
     ]
    }
   ],
   "source": [
    "print 'Categories for the sample image in the entry object:\\n', [\n",
    "    [\n",
    "        data['categories'][value] \n",
    "        for key, value in anEntry.iteritems() \n",
    "        if key == u'category_id'\n",
    "    ]\n",
    "    for anEntry in summary \n",
    "    if anEntry[u'file_name'] == entry[u'file_name']\n",
    "]"
   ]
  },
  {
   "cell_type": "markdown",
   "metadata": {},
   "source": [
    "To generate new segmentations using the same format, the most important fields would be\n",
    "    + file_name\n",
    "    + segmentation\n",
    "and possibly the 'category_id' with a corresponding category index. At least with the id it would be possible to allow the simulations to be generated only for specific categories, be it from COCO or our own.\n",
    "\n",
    "The format for the segmentation is a list of lists, this means an object may be composed of disjoint blobs for example. Each list is a sequence of floating numbers and correspond to consecutive $ x,y $ coordinates of each of the points that make up a polygon segmentation"
   ]
  }
 ],
 "metadata": {
  "kernelspec": {
   "display_name": "Python 2",
   "language": "python",
   "name": "python2"
  },
  "language_info": {
   "codemirror_mode": {
    "name": "ipython",
    "version": 2
   },
   "file_extension": ".py",
   "mimetype": "text/x-python",
   "name": "python",
   "nbconvert_exporter": "python",
   "pygments_lexer": "ipython2",
   "version": "2.7.10"
  }
 },
 "nbformat": 4,
 "nbformat_minor": 0
}
