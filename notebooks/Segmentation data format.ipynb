{
 "cells": [
  {
   "cell_type": "markdown",
   "metadata": {},
   "source": [
    "This version of the segmentation formatting is derived from the COCO dataset as it was the first source for segmented objects, but it may be updated according to our particular needs.  It is made by a dictionary stored at the following path: REPO/notebooks/cocoSummary.pkl."
   ]
  },
  {
   "cell_type": "code",
   "execution_count": 1,
   "metadata": {
    "collapsed": false
   },
   "outputs": [
    {
     "data": {
      "text/plain": [
       "u'/home/fmpaezri/repos/localization-agent/notebooks'"
      ]
     },
     "execution_count": 1,
     "metadata": {},
     "output_type": "execute_result"
    }
   ],
   "source": [
    "%pwd"
   ]
  },
  {
   "cell_type": "code",
   "execution_count": 10,
   "metadata": {
    "collapsed": false
   },
   "outputs": [],
   "source": [
    "import pickle\n",
    "\n",
    "with open('/home/fmpaezri/Downloads/votSummary.pkl', 'r') as dataFile:\n",
    "    data = pickle.load(dataFile)"
   ]
  },
  {
   "cell_type": "code",
   "execution_count": 11,
   "metadata": {
    "collapsed": false
   },
   "outputs": [
    {
     "name": "stdout",
     "output_type": "stream",
     "text": [
      "<type 'dict'>\n",
      "[u'categories', u'summary']\n"
     ]
    }
   ],
   "source": [
    "print type(data)\n",
    "print data.keys()"
   ]
  },
  {
   "cell_type": "markdown",
   "metadata": {},
   "source": [
    "## Category index"
   ]
  },
  {
   "cell_type": "markdown",
   "metadata": {},
   "source": [
    "The 'categories' key maps to the category index, which is also a dictionary that maps category numbers to names."
   ]
  },
  {
   "cell_type": "code",
   "execution_count": 12,
   "metadata": {
    "collapsed": false
   },
   "outputs": [
    {
     "name": "stdout",
     "output_type": "stream",
     "text": [
      "{1: u'person', 2: u'fish'}\n"
     ]
    }
   ],
   "source": [
    "print data['categories']"
   ]
  },
  {
   "cell_type": "markdown",
   "metadata": {},
   "source": [
    "## Summary"
   ]
  },
  {
   "cell_type": "markdown",
   "metadata": {},
   "source": [
    "The 'summary' key maps to the metadata summary. This summary was generated from the COCO metadata by selecting only the fields currently neccesary for the simulations. It is a list with an entry per annotated segment, so an image may have multiple entries in the list. Let's see an example of a summary entry."
   ]
  },
  {
   "cell_type": "code",
   "execution_count": 17,
   "metadata": {
    "collapsed": false
   },
   "outputs": [
    {
     "name": "stdout",
     "output_type": "stream",
     "text": [
      "[{u'file_name': u'\\nfish_4.jpg\\n', u'segmentation': [[]], u'category_id': u'2', u'image_id': u'20'}, {u'file_name': u'fish_2.jpg', u'segmentation': [[164, 17, 189, 18, 212, 20, 240, 26, 253, 45, 253, 66, 261, 99, 261, 118, 270, 138, 270, 153, 249, 153, 219, 140, 208, 149, 190, 153, 173, 148, 155, 136, 139, 126, 128, 112, 121, 116, 111, 128, 97, 123, 88, 96, 84, 81, 93, 66, 108, 63, 123, 66, 132, 54, 139, 45, 139, 29, 150, 18]], u'category_id': u'2', u'image_id': u'21'}, {u'file_name': u'person_1.jpg', u'segmentation': [[98, 15, 100, 29, 92, 48, 92, 75, 98, 100, 118, 114, 130, 114, 134, 128, 120, 131, 104, 137, 101, 134, 99, 159, 94, 179, 92, 230, 89, 254, 84, 269, 88, 281, 94, 286, 116, 292, 95, 295, 74, 297, 64, 296, 55, 293, 57, 286, 58, 272, 58, 260, 49, 273, 45, 283, 53, 290, 49, 294, 35, 289, 32, 285, 20, 280, 18, 272, 25, 258, 35, 247, 45, 235, 55, 220, 59, 208, 62, 192, 57, 171, 49, 166, 45, 160, 45, 140, 48, 125, 46, 102, 47, 87, 47, 60, 51, 48, 63, 42, 72, 27, 69, 18, 80, 10, 96, 14]], u'category_id': u'1', u'image_id': u'12'}, {u'file_name': u'\\nfish_7.jpg\\n', u'segmentation': [[]], u'category_id': u'2', u'image_id': u'23'}, {u'file_name': u'\\nfish_8.jpg\\n', u'segmentation': [[]], u'category_id': u'2', u'image_id': u'24'}, {u'file_name': u'\\nfish_10.jpg\\n', u'segmentation': [[]], u'category_id': u'2', u'image_id': u'25'}, {u'file_name': u'\\nfish_9.jpg\\n', u'segmentation': [[]], u'category_id': u'2', u'image_id': u'26'}, {u'file_name': u'\\nfish_6.jpg\\n', u'segmentation': [[]], u'category_id': u'2', u'image_id': u'27'}, {u'file_name': u'fish_3.jpg', u'segmentation': [[51, 40, 38, 31, 33, 14, 38, 3, 50, 3, 62, 11, 77, 25, 86, 37, 103, 36, 121, 37, 131, 47, 150, 63, 157, 76, 170, 72, 200, 75, 208, 82, 209, 98, 191, 105, 170, 111, 153, 117, 152, 126, 144, 135, 127, 145, 115, 156, 107, 169, 109, 177, 104, 183, 75, 182, 77, 175, 91, 150, 92, 142, 84, 131, 72, 111, 69, 95, 69, 81, 71, 66, 76, 52, 76, 46, 62, 40, 52, 41, 50, 38]], u'category_id': u'2', u'image_id': u'28'}, {u'file_name': u'\\nfish_5.jpg\\n', u'segmentation': [[]], u'category_id': u'2', u'image_id': u'29'}, {u'file_name': u'fish_1.jpg', u'segmentation': [[86, 44, 91, 25, 143, 29, 160, 52, 172, 75, 173, 87, 238, 78, 260, 87, 226, 109, 234, 126, 212, 134, 191, 137, 187, 146, 143, 133, 128, 143, 143, 155, 150, 180, 131, 184, 111, 170, 97, 156, 77, 149, 39, 134, 16, 120, 2, 107, 4, 91, 23, 76, 42, 63, 61, 52, 84, 43]], u'category_id': u'2', u'image_id': u'210'}]\n",
      "<type 'list'>\n",
      "11\n",
      "<type 'dict'>\n",
      "Key: file_name\tType: <type 'unicode'>\tValue: \n",
      "fish_4.jpg\n",
      "\n",
      "Key: segmentation\tType: <type 'list'>\tValue: [[]]\n",
      "Key: category_id\tType: <type 'unicode'>\tValue: 2\n",
      "Key: image_id\tType: <type 'unicode'>\tValue: 20\n"
     ]
    }
   ],
   "source": [
    "summary = data['summary']\n",
    "print summary\n",
    "print type(summary)\n",
    "print len(summary)\n",
    "entry = summary[0]\n",
    "print type(entry)\n",
    "print '\\n'.join(\n",
    "    (\n",
    "        'Key: {}\\tType: {}\\tValue: {}'.format(key, type(value), value)\n",
    "        for key, value in entry.iteritems()\n",
    "    )\n",
    ")"
   ]
  },
  {
   "cell_type": "markdown",
   "metadata": {},
   "source": [
    "The stored values allow:\n",
    "    + the location of the file relative to the image folder,\n",
    "    + verification of the object category,\n",
    "    + object segmentation from polygon coordinate sequence,\n",
    "    + mapping back to the original metadata for the image in the COCO dataset."
   ]
  },
  {
   "cell_type": "markdown",
   "metadata": {},
   "source": [
    "To check that an image may have multiple entries we can iterate over the summary looking for the other entries belonging to the same file name as the sample entry presented above."
   ]
  },
  {
   "cell_type": "code",
   "execution_count": 24,
   "metadata": {
    "collapsed": false
   },
   "outputs": [
    {
     "name": "stdout",
     "output_type": "stream",
     "text": [
      "Categories for the sample image in the entry object:\n",
      "[[u'fish']]\n"
     ]
    }
   ],
   "source": [
    "print 'Categories for the sample image in the entry object:\\n', [\n",
    "    [\n",
    "        data[u'categories'][int(value)] \n",
    "        for key, value in anEntry.iteritems() \n",
    "        if key == u'category_id'\n",
    "    ]\n",
    "    for anEntry in summary \n",
    "    if anEntry[u'file_name'] == entry[u'file_name']\n",
    "]"
   ]
  },
  {
   "cell_type": "code",
   "execution_count": 25,
   "metadata": {
    "collapsed": false
   },
   "outputs": [
    {
     "data": {
      "text/plain": [
       "u'fish_1.jpg'"
      ]
     },
     "execution_count": 25,
     "metadata": {},
     "output_type": "execute_result"
    }
   ],
   "source": [
    "anEntry['file_name']"
   ]
  },
  {
   "cell_type": "markdown",
   "metadata": {},
   "source": [
    "## Applying the format to new segmented objects"
   ]
  },
  {
   "cell_type": "markdown",
   "metadata": {},
   "source": [
    "To generate new segmentations using the same format, the most important fields would be\n",
    "    + file_name\n",
    "    + segmentation\n",
    "and possibly the 'category_id' with a corresponding category index. At least with the id it would be possible to allow the simulations to be generated only for specific categories, be it from COCO or our own.\n",
    "\n",
    "The format for the segmentation is a list of lists, this means an object may be composed of disjoint blobs for example. Each list is a sequence of floating numbers and correspond to consecutive $ x,y $ coordinates of each of the points that make up a polygon segmentation"
   ]
  }
 ],
 "metadata": {
  "kernelspec": {
   "display_name": "Python 2",
   "language": "python",
   "name": "python2"
  },
  "language_info": {
   "codemirror_mode": {
    "name": "ipython",
    "version": 2
   },
   "file_extension": ".py",
   "mimetype": "text/x-python",
   "name": "python",
   "nbconvert_exporter": "python",
   "pygments_lexer": "ipython2",
   "version": "2.7.10"
  }
 },
 "nbformat": 4,
 "nbformat_minor": 0
}
