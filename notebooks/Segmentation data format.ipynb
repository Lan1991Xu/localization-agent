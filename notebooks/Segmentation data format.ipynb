{
 "cells": [
  {
   "cell_type": "markdown",
   "metadata": {},
   "source": [
    "This version of the segmentation formatting is derived from the COCO dataset as it was the first source for segmented objects, but it may be updated according to our particular needs.  It is made by a dictionary stored at the following path: REPO/notebooks/cocoSummary.pkl."
   ]
  },
  {
   "cell_type": "code",
   "execution_count": 6,
   "metadata": {
    "collapsed": false
   },
   "outputs": [
    {
     "data": {
      "text/plain": [
       "u'/home/fmpaezri/repos/localization-agent/notebooks'"
      ]
     },
     "execution_count": 6,
     "metadata": {},
     "output_type": "execute_result"
    }
   ],
   "source": [
    "%pwd"
   ]
  },
  {
   "cell_type": "code",
   "execution_count": 7,
   "metadata": {
    "collapsed": false
   },
   "outputs": [],
   "source": [
    "import pickle\n",
    "\n",
    "with open('cocoSummary.pkl', 'r') as dataFile:\n",
    "    data = pickle.load(dataFile)"
   ]
  },
  {
   "cell_type": "code",
   "execution_count": 8,
   "metadata": {
    "collapsed": false
   },
   "outputs": [
    {
     "name": "stdout",
     "output_type": "stream",
     "text": [
      "<type 'dict'>\n",
      "['categories', 'summary']\n"
     ]
    }
   ],
   "source": [
    "print type(data)\n",
    "print data.keys()"
   ]
  },
  {
   "cell_type": "markdown",
   "metadata": {},
   "source": [
    "##Category index"
   ]
  },
  {
   "cell_type": "markdown",
   "metadata": {},
   "source": [
    "The 'categories' key maps to the category index, which is also a dictionary that maps category numbers to names."
   ]
  },
  {
   "cell_type": "code",
   "execution_count": 4,
   "metadata": {
    "collapsed": false
   },
   "outputs": [
    {
     "name": "stdout",
     "output_type": "stream",
     "text": [
      "{1: u'person', 2: u'fish'}\n"
     ]
    }
   ],
   "source": [
    "print data['categories']"
   ]
  },
  {
   "cell_type": "markdown",
   "metadata": {},
   "source": [
    "##Summary"
   ]
  },
  {
   "cell_type": "markdown",
   "metadata": {},
   "source": [
    "The 'summary' key maps to the metadata summary. This summary was generated from the COCO metadata by selecting only the fields currently neccesary for the simulations. It is a list with an entry per annotated segment, so an image may have multiple entries in the list. Let's see an example of a summary entry."
   ]
  },
  {
   "cell_type": "code",
   "execution_count": 5,
   "metadata": {
    "collapsed": false
   },
   "outputs": [
    {
     "name": "stdout",
     "output_type": "stream",
     "text": [
      "<type 'list'>\n",
      "11\n",
      "<type 'dict'>\n",
      "Key: image_id\tType: <type 'unicode'>\tValue: 20\n",
      "Key: segmentation\tType: <type 'list'>\tValue: [[]]\n",
      "Key: category_id\tType: <type 'unicode'>\tValue: 2\n",
      "Key: file_name\tType: <type 'unicode'>\tValue: \n",
      "fish_4.jpg\n",
      "\n"
     ]
    }
   ],
   "source": [
    "summary = data['summary']\n",
    "print type(summary)\n",
    "print len(summary)\n",
    "entry = summary[0]\n",
    "print type(entry)\n",
    "print '\\n'.join(\n",
    "    (\n",
    "        'Key: {}\\tType: {}\\tValue: {}'.format(key, type(value), value)\n",
    "        for key, value in entry.iteritems()\n",
    "    )\n",
    ")"
   ]
  },
  {
   "cell_type": "markdown",
   "metadata": {},
   "source": [
    "The stored values allow:\n",
    "    + the location of the file relative to the image folder,\n",
    "    + verification of the object category,\n",
    "    + object segmentation from polygon coordinate sequence,\n",
    "    + mapping back to the original metadata for the image in the COCO dataset."
   ]
  },
  {
   "cell_type": "markdown",
   "metadata": {},
   "source": [
    "To check that an image may have multiple entries we can iterate over the summary looking for the other entries belonging to the same file name as the sample entry presented above."
   ]
  },
  {
   "cell_type": "code",
   "execution_count": 12,
   "metadata": {
    "collapsed": false
   },
   "outputs": [
    {
     "name": "stdout",
     "output_type": "stream",
     "text": [
      "Categories for the sample image in the entry object:\n",
      "[[u'fish']]\n"
     ]
    }
   ],
   "source": [
    "print 'Categories for the sample image in the entry object:\\n', [\n",
    "    [\n",
    "        data[u'categories'][str(value)] \n",
    "        for key, value in anEntry.iteritems() \n",
    "        if key == u'category_id'\n",
    "    ]\n",
    "    for anEntry in summary \n",
    "    if anEntry[u'file_name'] == entry[u'file_name']\n",
    "]"
   ]
  },
  {
   "cell_type": "code",
   "execution_count": 13,
   "metadata": {
    "collapsed": false
   },
   "outputs": [
    {
     "data": {
      "text/plain": [
       "u'fish1.jpg'"
      ]
     },
     "execution_count": 13,
     "metadata": {},
     "output_type": "execute_result"
    }
   ],
   "source": [
    "anEntry['file_name']"
   ]
  },
  {
   "cell_type": "markdown",
   "metadata": {},
   "source": [
    "##Applying the format to new segmented objects"
   ]
  },
  {
   "cell_type": "markdown",
   "metadata": {},
   "source": [
    "To generate new segmentations using the same format, the most important fields would be\n",
    "    + file_name\n",
    "    + segmentation\n",
    "and possibly the 'category_id' with a corresponding category index. At least with the id it would be possible to allow the simulations to be generated only for specific categories, be it from COCO or our own.\n",
    "\n",
    "The format for the segmentation is a list of lists, this means an object may be composed of disjoint blobs for example. Each list is a sequence of floating numbers and correspond to consecutive $ x,y $ coordinates of each of the points that make up a polygon segmentation"
   ]
  }
 ],
 "metadata": {
  "kernelspec": {
   "display_name": "Python 2",
   "language": "python",
   "name": "python2"
  },
  "language_info": {
   "codemirror_mode": {
    "name": "ipython",
    "version": 2
   },
   "file_extension": ".py",
   "mimetype": "text/x-python",
   "name": "python",
   "nbconvert_exporter": "python",
   "pygments_lexer": "ipython2",
   "version": "2.7.10"
  }
 },
 "nbformat": 4,
 "nbformat_minor": 0
}
