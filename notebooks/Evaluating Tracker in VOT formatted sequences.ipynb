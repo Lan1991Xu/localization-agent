{
 "cells": [
  {
   "cell_type": "markdown",
   "metadata": {},
   "source": [
    "#Preparing paths "
   ]
  },
  {
   "cell_type": "code",
   "execution_count": 1,
   "metadata": {
    "collapsed": true
   },
   "outputs": [],
   "source": [
    "import sys"
   ]
  },
  {
   "cell_type": "code",
   "execution_count": 2,
   "metadata": {
    "collapsed": false
   },
   "outputs": [],
   "source": [
    "sys.path.append('/opt/opencv-3.0.0/release/lib/python2.7/site-packages/')"
   ]
  },
  {
   "cell_type": "code",
   "execution_count": 3,
   "metadata": {
    "collapsed": false
   },
   "outputs": [],
   "source": [
    "#Add the repo to allow import of our classes\n",
    "sys.path.append('/home/fmpaezri/repos/localization-agent/')"
   ]
  },
  {
   "cell_type": "code",
   "execution_count": 4,
   "metadata": {
    "collapsed": false
   },
   "outputs": [
    {
     "name": "stderr",
     "output_type": "stream",
     "text": [
      "Using gpu device 0: Graphics Device (CNMeM is disabled, CuDNN 3007)\n"
     ]
    }
   ],
   "source": [
    "import pickle\n",
    "import numpy\n",
    "from PIL import Image\n",
    "import IPython.display\n",
    "import os\n",
    "\n",
    "import tracking.Tester\n",
    "import tracking.RecurrentTracker\n",
    "import tracking.TheanoGruRnn\n",
    "import tracking.VideoSequence as vs\n",
    "import tracking.VisualAttention\n",
    "import tracking.GaussianGenerator"
   ]
  },
  {
   "cell_type": "markdown",
   "metadata": {},
   "source": [
    "#Load evaluation data "
   ]
  },
  {
   "cell_type": "markdown",
   "metadata": {},
   "source": [
    "## Random generated or from VOT formatted"
   ]
  },
  {
   "cell_type": "code",
   "execution_count": 5,
   "metadata": {
    "collapsed": true
   },
   "outputs": [],
   "source": [
    "#samplesDir = '/tmp/sampleSequences'\n",
    "\n",
    "#gg = tracking.GaussianGenerator.GaussianGenerator(\n",
    "#    '/home/fmpaezri/datasets/mscoco/',\n",
    "#    '/home/fmpaezri/repos/localization-agent/summaries/cocoTrainSummaryCategAndSideGt100SmplsAllCorrected.pkl',\n",
    "#    ['random', 'sine', 'stretched'], ['stretched'], None, grayscale=False, \n",
    "#    objectPathTemplate='./train2014', scenePathTemplate='./train2014'\n",
    "#        )\n",
    "\n",
    "#%time gg.saveBatch(4, 0, 60, )\n",
    "#sequencePath = '/home/datasets/datasets1/vot-challenge/sequences2014/car/'\n",
    "#sequencePath = os.path.join(samplesDir, numpy.random.choice(os.listdir(samplesDir)))\n",
    "#%time data, labels = tester.loadImageSequence(sequencePath, newShape=(rnn.imgSize,rnn.imgSize))"
   ]
  },
  {
   "cell_type": "markdown",
   "metadata": {},
   "source": [
    "###Correction to output ordered points and other preprocessing "
   ]
  },
  {
   "cell_type": "code",
   "execution_count": 6,
   "metadata": {
    "collapsed": true
   },
   "outputs": [],
   "source": [
    "#ONLY FOR VOT BOXES\n",
    "#Correcting box ccords as expected by IoU\n",
    "#labelsCopy = labels.copy()\n",
    "#labelsCopy[:,0] = labels[:,0::2].min(axis=1) \n",
    "#labelsCopy[:,1] = labels[:,1::2].min(axis=1)\n",
    "#labelsCopy[:,2] = labels[:,0::2].max(axis=1) \n",
    "#labelsCopy[:,3] = labels[:,1::2].max(axis=1)\n",
    "#labels = labelsCopy"
   ]
  },
  {
   "cell_type": "code",
   "execution_count": 7,
   "metadata": {
    "collapsed": true
   },
   "outputs": [],
   "source": [
    "#data = data[numpy.newaxis, ...].astype(numpy.float32)"
   ]
  },
  {
   "cell_type": "code",
   "execution_count": 8,
   "metadata": {
    "collapsed": true
   },
   "outputs": [],
   "source": [
    "#labels = labels[numpy.newaxis,...]"
   ]
  },
  {
   "cell_type": "markdown",
   "metadata": {},
   "source": [
    "##Load from pickled data "
   ]
  },
  {
   "cell_type": "code",
   "execution_count": 9,
   "metadata": {
    "collapsed": false
   },
   "outputs": [
    {
     "name": "stdout",
     "output_type": "stream",
     "text": [
      "CPU times: user 1min 14s, sys: 1min 48s, total: 3min 3s\n",
      "Wall time: 3min 23s\n"
     ]
    }
   ],
   "source": [
    "#Load sequences to evaluate\n",
    "with open('/data1/vot-challenge/SequencesTestObjectsColor64StillAllScenes.pkl', 'r') as sequenceFile:\n",
    "    %time sequences = pickle.load(sequenceFile)"
   ]
  },
  {
   "cell_type": "code",
   "execution_count": 10,
   "metadata": {
    "collapsed": true
   },
   "outputs": [],
   "source": [
    "data, labels = sequences"
   ]
  },
  {
   "cell_type": "code",
   "execution_count": 11,
   "metadata": {
    "collapsed": false
   },
   "outputs": [
    {
     "name": "stdout",
     "output_type": "stream",
     "text": [
      "(64, 60, 224, 224, 3) (64, 60, 4)\n"
     ]
    }
   ],
   "source": [
    "print data.shape, labels.shape"
   ]
  },
  {
   "cell_type": "markdown",
   "metadata": {},
   "source": [
    "#Load model to evaluate "
   ]
  },
  {
   "cell_type": "code",
   "execution_count": 27,
   "metadata": {
    "collapsed": false
   },
   "outputs": [
    {
     "name": "stdout",
     "output_type": "stream",
     "text": [
      "/home/fmpaezri/repos/localization-agent/tracking\n"
     ]
    }
   ],
   "source": [
    "#I needed to be in the folder with TheanoGruRnn definition\n",
    "%cd ../tracking"
   ]
  },
  {
   "cell_type": "code",
   "execution_count": 28,
   "metadata": {
    "collapsed": false
   },
   "outputs": [
    {
     "name": "stdout",
     "output_type": "stream",
     "text": [
      "CPU times: user 18 s, sys: 713 ms, total: 18.7 s\n",
      "Wall time: 19.9 s\n"
     ]
    }
   ],
   "source": [
    "#Load the model you want\n",
    "with open('/data1/vot-challenge/experiments/ECCV_evaluation/expD08/model.pkl', 'r') as modelFile:\n",
    "    %time rnn = pickle.load(modelFile)"
   ]
  },
  {
   "cell_type": "code",
   "execution_count": 29,
   "metadata": {
    "collapsed": true
   },
   "outputs": [],
   "source": [
    "tracker = tracking.RecurrentTracker.RecurrentTracker(None, rnn)"
   ]
  },
  {
   "cell_type": "code",
   "execution_count": 30,
   "metadata": {
    "collapsed": true
   },
   "outputs": [],
   "source": [
    "tester = tracking.Tester.Tester(tracker)"
   ]
  },
  {
   "cell_type": "markdown",
   "metadata": {},
   "source": [
    "#Evaluate and visualize "
   ]
  },
  {
   "cell_type": "markdown",
   "metadata": {},
   "source": [
    "##Flow calculation "
   ]
  },
  {
   "cell_type": "code",
   "execution_count": 31,
   "metadata": {
    "collapsed": false
   },
   "outputs": [],
   "source": [
    "#reload(tracking.VisualAttention)"
   ]
  },
  {
   "cell_type": "code",
   "execution_count": 32,
   "metadata": {
    "collapsed": false
   },
   "outputs": [
    {
     "name": "stdout",
     "output_type": "stream",
     "text": [
      "CPU times: user 3min 5s, sys: 3.01 s, total: 3min 8s\n",
      "Wall time: 3min 8s\n"
     ]
    }
   ],
   "source": [
    "#If you find an exception here, something like expected float or something, it might be a change of the function\n",
    "#of OpenCV for flow calculation between versions, try adding None after the image arguments at the source and reload with the above line\n",
    "if rnn.computeFlow:\n",
    "    %time flow = tracking.VisualAttention.computeFlowFromBatch(data)\n",
    "else:\n",
    "    flow = None"
   ]
  },
  {
   "cell_type": "markdown",
   "metadata": {},
   "source": [
    "##Evaluation "
   ]
  },
  {
   "cell_type": "code",
   "execution_count": 33,
   "metadata": {
    "collapsed": false
   },
   "outputs": [
    {
     "name": "stdout",
     "output_type": "stream",
     "text": [
      "CPU times: user 17.7 s, sys: 4min 47s, total: 5min 5s\n",
      "Wall time: 5min 5s\n"
     ]
    }
   ],
   "source": [
    "%time iou, predLabels = tester.test(data, labels, flow, rnn.batchSize, rnn.imgSize, False, labels.shape[1], 4, '/tmp')"
   ]
  },
  {
   "cell_type": "code",
   "execution_count": 34,
   "metadata": {
    "collapsed": false
   },
   "outputs": [
    {
     "data": {
      "text/plain": [
       "0.46565233658564575"
      ]
     },
     "execution_count": 34,
     "metadata": {},
     "output_type": "execute_result"
    }
   ],
   "source": [
    "iou.mean()"
   ]
  },
  {
   "cell_type": "markdown",
   "metadata": {},
   "source": [
    "##Visualization "
   ]
  },
  {
   "cell_type": "code",
   "execution_count": 35,
   "metadata": {
    "collapsed": true
   },
   "outputs": [],
   "source": [
    "sample = -1"
   ]
  },
  {
   "cell_type": "code",
   "execution_count": 36,
   "metadata": {
    "collapsed": true
   },
   "outputs": [],
   "source": [
    "sample += 1"
   ]
  },
  {
   "cell_type": "code",
   "execution_count": 37,
   "metadata": {
    "collapsed": false
   },
   "outputs": [],
   "source": [
    "seq = vs.VideoSequence((Image.fromarray(frame.astype(numpy.uint8)) for frame in data[sample]))"
   ]
  },
  {
   "cell_type": "code",
   "execution_count": 38,
   "metadata": {
    "collapsed": true
   },
   "outputs": [],
   "source": [
    "seq.addBoxes(labels[sample], 'green')\n",
    "seq.addBoxes((predLabels[sample]), 'red')"
   ]
  },
  {
   "cell_type": "code",
   "execution_count": 39,
   "metadata": {
    "collapsed": false
   },
   "outputs": [],
   "source": [
    "outputName = '/tmp/testSequence1.mp4'\n",
    "seq.exportToVideo(30, outputName)"
   ]
  },
  {
   "cell_type": "code",
   "execution_count": 40,
   "metadata": {
    "collapsed": false
   },
   "outputs": [
    {
     "data": {
      "text/html": [
       "<video controls width=\"320\" height=\"240\"><source src=\"data:video/mp4;base64,AAAAIGZ0eXBpc29tAAACAGlzb21pc28yYXZjMW1wNDEAAAAIZnJlZQAAhlBtZGF0AAACrwYF//+r\n",
       "3EXpvebZSLeWLNgg2SPu73gyNjQgLSBjb3JlIDE0MiByMjM4OSA5NTZjOGQ4IC0gSC4yNjQvTVBF\n",
       "Ry00IEFWQyBjb2RlYyAtIENvcHlsZWZ0IDIwMDMtMjAxNCAtIGh0dHA6Ly93d3cudmlkZW9sYW4u\n",
       "b3JnL3gyNjQuaHRtbCAtIG9wdGlvbnM6IGNhYmFjPTEgcmVmPTMgZGVibG9jaz0xOjA6MCBhbmFs\n",
       "eXNlPTB4MzoweDExMyBtZT1oZXggc3VibWU9NyBwc3k9MSBwc3lfcmQ9MS4wMDowLjAwIG1peGVk\n",
       "X3JlZj0xIG1lX3JhbmdlPTE2IGNocm9tYV9tZT0xIHRyZWxsaXM9MSA4eDhkY3Q9MSBjcW09MCBk\n",
       "ZWFkem9uZT0yMSwxMSBmYXN0X3Bza2lwPTEgY2hyb21hX3FwX29mZnNldD0tMiB0aHJlYWRzPTI0\n",
       "IGxvb2thaGVhZF90aHJlYWRzPTEgc2xpY2VkX3RocmVhZHM9MCBucj0wIGRlY2ltYXRlPTEgaW50\n",
       "ZXJsYWNlZD0wIGJsdXJheV9jb21wYXQ9MCBjb25zdHJhaW5lZF9pbnRyYT0wIGJmcmFtZXM9MyBi\n",
       "X3B5cmFtaWQ9MiBiX2FkYXB0PTEgYl9iaWFzPTAgZGlyZWN0PTEgd2VpZ2h0Yj0xIG9wZW5fZ29w\n",
       "PTAgd2VpZ2h0cD0yIGtleWludD0yNTAga2V5aW50X21pbj0yNSBzY2VuZWN1dD00MCBpbnRyYV9y\n",
       "ZWZyZXNoPTAgcmNfbG9va2FoZWFkPTQwIHJjPWNyZiBtYnRyZWU9MSBjcmY9MjMuMCBxY29tcD0w\n",
       "LjYwIHFwbWluPTAgcXBtYXg9NjkgcXBzdGVwPTQgaXBfcmF0aW89MS4yNSBhcT0xOjEuMDAAgAAA\n",
       "FDdliIQAf/ekhJLXn7SIDgnXw2pFiR/sOY+5wJ167wTg2k8tqp9jAbjG9SqAKh7RVEvhkb9csfC1\n",
       "7BU8DL4/6Kyg6yCpcrb66lzmYIqQ5cle1bpCwblqZvQ6Pw4d/EyzD1NaOYkZeNTWYBRxaYlQMrqe\n",
       "vfPVpyQf7u0MQoM1lJUPuX1jGn2yT7Fr0Au6zszJnzWi3n+JMiVJmbo/6piyd4imPIo2GrM2MQm6\n",
       "9Z+JovoucRDAlcnyTnPLzQQM1C1u9DwBs+6KIM+f4uOXbmqVmB5cmdYoU9R8QKOUnFxpb8x5NIGb\n",
       "eVdjncFSMa3/yhxIAtImTtMg4iF5ItYDCwmeRjLuO6d30Xnacgp6MUOAMklH/GP/OEo9XOh3GQjM\n",
       "T0wYK7pSxFYCjPRC7LA6uAJT3W3O3sTegKLNcDSv9FpoYTFn2RveINwRfYAQ90EbXrnIjp9vYyCO\n",
       "a/C1+iM2Ipntoex4CpEeYOwi8/tNdQXXLdOhdBdQw5FKB/YVaf5MOSEtI30ZEMgjor+emNy4thic\n",
       "T88Of8nDAXT4XqZtG5GwGqH8WpP9fipgHu5ec1eTdS3gnI2KTUdf5/R92H2Z3QC1BNwTLTv6QPb7\n",
       "4hXvrryXytB96x/TRXH2O9gDy11rAK34ujwGJ4rGqAOrnXi20jN5N4ViEuAp5svN3PCVmTyhJ1mC\n",
       "0wcAlKIx8r1kpQmRprgaUX0ijwkDyfdrdlR5J36Vir3zDjXgaVAP/hFmpd98lsrXlXpI3mbpN5IE\n",
       "YB/12t9WytQaECxaB5Xcl/Z/lvCpKSK8tqtHd2SE9I6chEDtGaiYnu2a/oaZmSqnNFgOelddkrQ3\n",
       "kfqUm36P+efdCYytYJXfum2lDAkWQginGj/kMxFqRkUYs9WGY1Zv3lp5q+f4Y56bSlEfCUXXHd03\n",
       "epwGSD0ye1kEePZCdh4JP9P1yZLJDHV2B359L3FiQtvM9KaMP5xUXV1YyPa5tMmBnB8rqzS3bC+0\n",
       "2wcHAL8ppUVdro7Vv6EEiELoJJD77+EVnFP24jbpslrF/mT/fzzcP9JviXsHCLqNXgxQGU8xs48P\n",
       "tmGsAMp/15T/fC7k/F2S/btITLkAWAO2xfgz/sieHPzHuxilFH8YJxgkBq9fpf4AtsL6V180gO9r\n",
       "Q1VzTpPD+D58Yr3rR7GxA/smZaaEA1/LYbOAu8OWFC8lE0OJX7kZvvgSRFRK3WKNG0tsfCV3h878\n",
       "H+Ab45ce52CFnfL8wGI9DA8N7WmbGOmXHIh/i+QGanx40O6I4UYCEU/OiNHq0cuFuzlQvjIzibyj\n",
       "OXTMBHd36qXDDv+xsprofbcQAjG/9k3N3tCAkk420gg5kOSrSAeAvLu5Ap34mC+jlZ7HEZktJyQC\n",
       "aQtfc1iWgSo2hKLTuZxgmwYXBnj/OdnGo/IICdTD+JvYRzP7dw13wU6SDy99+FbK25n44iLUehaw\n",
       "c8Qbmc0SD5p1R29ebZbVEDwibpS11LI6925cdtpER+B9ZLON/O+4b+OCKzp8k85ttIikGXqlvWAV\n",
       "u69HW3bwK8bsV6Ow0A7wdvUER6umKb0+uuBOMh/uUNOjl0FdSj8vc1KiRyrkMCJmK7ZO02TyLGFm\n",
       "LBQqfArfDsTCkoFixzDiBe0VHizzP3XhBarbOpCT6jYw54dD3T2huLYCRQiHxbYtBeECpw1BlOFd\n",
       "BAHoXLR1Dc5SNahiAAFF/qkVpHHZB7zeeTJZRD6t0Qpi0UtkVYS7jNm32qV3+9CqvjfbGX53mHIp\n",
       "Nq4Sldv4z4nMxKYgnGcgRmpSZhigtkP68aY2FXKTOsfXyCs7henwfSzYeSA/NhlasHFxWba2OGyN\n",
       "DGFsAPoG4431MgwxuinmfVMxMoOpjxqnuGr/ubxGKOHKsbr5cVQGed0evFhe1KJODyTtSC5g2VG1\n",
       "tpOB81/QaPDvKvUE96YQMz+IkVzdtYly42dF2wfvtOfbZO5Y1q5/09/dSNupvLubF6dgldUB3DVv\n",
       "tliJ8XrFjMHELbFBmdN+0awrRV88NbO/oqnWPoA6+3DnJkwf0UDoL/v7jO0pXw10/Gw9lP2zMMv1\n",
       "u6R2bMWODQbZmEFLUSvHR7D9tKWvbNB2D5gqy0g3mD0hQD7jwZNqOwceDuL01vEmKD/fBmxNVl2L\n",
       "obobOxY/nDuRd4NvErv81HJSt5UEj0LxPqKGGo8zvgKOWP4wp6O9h60UuJjWRvAtNQJQrRDjCwVZ\n",
       "0J2Y0GrZAz9MKk/T1mezZ3bmwKd0xy6KljqVekbe/xhnZVZqzB+H1ePsCxEPsR+3EWg/8WkeEpQQ\n",
       "GMqz7HUf0jgr02MXEt4T7jP96AcG+dKQIEYKkVGPzrMuFyKS2UmE9Qayas2LLkxHVGLX9GwbnIH/\n",
       "HMh8mBTk+ts8uJW/sotZYmDfBw1wlLaNWJoHcP7N1DYYdLZGpkR4nqTipor4xo2a0xN+3XK887fz\n",
       "qhYTMtuqtx2n+Tca7OEIouwuY8LHrNxFWTk617zl5T4XwehVoqTw1khbH1BXJ2wP7h4NjJiazvoM\n",
       "6kK86KabU6r/VID5CwKeEw+4VHIJkFVwIRpy35fk3qWqhh+BmgpKXk3fmVIV6xIUfQwEPzMmZTLZ\n",
       "izmIaZ8QgGy2khcN2kmus8nClch1j4wXB94Hk3M3Q89kajrzX6M2YkmvBCsA7/WRcntTNTi7qDMG\n",
       "6FfTvR+RMKE96f33EPXOitklVXB8Sj0lb84YAGUQ3vmKfjZ/BP33+ZgASEj7UlcHmE6vkF3q5P+q\n",
       "uPgInrsx7GsSDRgNkdOTkIJQW6z/t9KLzS+DaymXxURiuYdIsYtzkyNDGkiTMlPVnJC5sOHxTJUf\n",
       "FATMVbLqAXjaRCAT6Db8c3XVKI1ZUbP12TvJjVzDxdwnT+NTIOv+NbY18dcAKHd2f7Jh6BeQasoV\n",
       "LMiF+DfVBOuzmEosIz4BVDlLpSLSMjfA5jExclcTWqbSEpCUPMkF/NXa90O4PXTk/kz/miNBXfXN\n",
       "1kLHNTfXxqclGbLTaVAr+dSEUiqO06lOZC2Cliul/AZRBMhIXJKcfik70JlzGGiZYsody5xf2hyo\n",
       "ICBmDJAsrj4QuFCs6KiDqzG+qnf445wi8KCL+eJKl8j9N1TRkaN+RY0cx8DeW0Bp9lKk79dQYYnF\n",
       "a4UZcCAFleLp6im66OIO2TnpWuLPtyDufVcVQN4BCw2UcgDdwAba6yFSqsH4lncLH/HCjdY28usy\n",
       "Rn29UQ0Ife2SsBnAQ0MFvZ/5H2k5pgbheAAVnRJR2Qss7cbEwckoDWQTZ/8faVOAHsmifjMpF+/T\n",
       "+vP8R9FvNaQtYgjyNzo0w7OSfiumevmG8D6BV2SSYIv9TiHshVNix3PhoHcG1OGbu8rU9QgI1rcL\n",
       "K+2dMYXwFaFlulQJ78vgRJ5ZgNR6jYxi74CGhKUNb7JIxrUXVgUXXX8SHCE1JWrOjpqBFJ3qylV2\n",
       "bnzes4AjQ3neHyjjidaAC+joaMfQGL8e3aofVaJXbSSly/pfDg5dcMRiAcq13chJGiXXjw/x05Pr\n",
       "h4vF8ieXjUCZ8YpIe74xwy0P2/azFMxiT8MNnNf8VQ0ZvSnSUheVSjev12dNp4WiFM7gzzaaHlaH\n",
       "Ul59BXc5mpWkfJtTA5cxGwJpu7TCnX7ewIJR49RUFF5siV8UxK3P2xSsQR3zDhsuW2MWA2Y93VVC\n",
       "8hkGlAiBDlWVU76UlsY9GUG0uPbFG5V9DfdtTYeBl1r3zU+n+OJ5Z9ZnsNVxmYwhgEjFX940Ppwe\n",
       "j+P+d4Jly6GtA8st0m+3TdwZt9LNQ5pkC4LcncrLgbHx+VNhfmGdVgY6PciE4O1L7vHrQfK1eLTI\n",
       "07HSTh66V6QWwTkxzwHJTxppP1IVrJR6caQtqvxseZwBgcOQQHDrRGytAfnj2Znr4WuXFsu97xhB\n",
       "RjtuJePUzaipCSeqt4WaaJNA4G1tzrzulBFpZXjR8D3KR88MQnqEvT20jbXHO+Kl4Y0cw9HSr/s/\n",
       "K1lWZdCNeoIb/l0PILXETBjzzHC+lJ+dE/ZKyCjzUTmmeh/DsskLxqgYMRMb0N+Z1rrLvn4pw+Qh\n",
       "vjQeiDHre9CD8Fe4HiI2ZsJ3k0By6Gf2tbG1IjGqCcmT8ZUgiQopuu7nIdiCO+6VIBxLnSUQfA/8\n",
       "tSYyyveMC+Y75NqGwln+a07nRnuGzgmvfVrtSV45RFd6R5ArVFUkEJ4YqOWC+JlwbX0zHQ2WP0D2\n",
       "K0HIGkUNyukXMtq8kdmOeimTaslCeTL4qnuR4EEM4CZArNOX96hTzIEPVSMRR9vYGNXe7ZcOR+AC\n",
       "gawG0Tz3QPKWNk24avQO+V//UjliqVo/ecbmjUTPa+yiYiQHGKXerwWfCQPNSGWSEVVVTWRN1bx+\n",
       "UBheTCynDfXbE1nWThEwG1JxNNPyIjJG/6UVbITb9zSlADr7xRIn5ATWChajxkjbVqMnwWqAL/TD\n",
       "dLB85C9nsipA9ul0iWJuthlAYbJWHi6rPHPdqph62Mtlf+7Iyb48HQZOE33sVbOrNjvE1hcarin+\n",
       "SiM370R9QfEBFOK3ur22COh5SJeA8YTQQzj25UpjtPKxvAQr2wobAK1BUzD7KubaKH4jT5MwUq9w\n",
       "aLUE2RCrQS6WxnF5co4PDLCit1Hfnf6r9vzHJ3N0ASK8P0P5R9fUoap5PEZcnMsRQMyz1W3sNDb5\n",
       "K0+4gzXIegsAsQSiDQyb4JcBZcIOPggzzpD6GVUb/idLxPNdAi7WrEDC23pSK9q5avJv81uYwyDc\n",
       "1oS2Rhc/a4C6eVAUcU213D/c7j8QI2UkiuNxxNfA1ukBIGmaUUOpHIuwtNRUt0IAxwGGmXuu8se2\n",
       "AzPI6M1dFm/zU7GO2MyECCtYWjq05kae2c2WQa5oOniur+0KPAvKpk3AAd0VGkvUoLuJmjdJ8loe\n",
       "JF8oYX4hneqA/NrX7WEg+QnDersMKzwjMSiOO0GnGc5sCDnf5KWeox1nmjP1uW2FHKOBmT5XIX6n\n",
       "8u4iN4lsS0wEUUQjzCdjmuYSqY8zcy/ze6cYE8Qs7OBcPQ6Ka1hYyOsOy3O13ky5rW7rJE2N5CPZ\n",
       "ksnoLpyOMjywVh3CulnkyeNjmEqlDg5vNMThD4pCf6Bf+y03JMPgshx9amAHuWAJZnNPNJFwp5qK\n",
       "uzWxtI/uNAD8+74utgkmbdLbxWBCA93rAMNg6SFV8TdbJp5YO6LFYwR1jUtwg8O7w7hMGYIhl6Y9\n",
       "T+CBjOTJ6nx69LGLcx1hhThy4lORtv//+weDLa6PT0+Mw9ivzrvv5hMulGUKemSr/+11KIR71U3I\n",
       "Mv2az78gv0wt+eCf/ldIQx9Uz+P6NNhle5cvr/M9K6CTel4Bachb763EA06XozP4EK5u0KX+GOjI\n",
       "jx53ZHMV4c5BPLw17LLfWIY56CPwiR0PEJ9Wo/eZ8nSmQkSrPs+Uf+AydtFNvBaG/v+DZNdngnnG\n",
       "31b5txfvExMl27q88mIynYwcIwH1IMFm1natBKp4yInJ1erjgvWS36G6xfqP0Eq7t/oRLQBRA3J4\n",
       "eS6i4LljHgnLANnpCiDgqcC/v4WYt00pL9Hiq96PfvEqCWq5wKK9R8Bt/xICS1fyHmYOU0PYPgnL\n",
       "481HBJe0iounK1O7ugiNIP4r/nGUMPT7GjiVtDWafADFQm+N/hj5o5lTJdpibljdj7WW7HfGPAfO\n",
       "053rgTBEJcge3sr4Aohjd1m0TMak6fju8J3CJ0xCizgcyJ3qrhEeYwebm1kKRoFiH24ELvCmv//i\n",
       "LbpN/dPezVoS+W+/EfRTG/iUzYL46t+/8enx+ciLg/H+7bSI21xfNTmG4tsZmTI3CJTM8CDxO4Oo\n",
       "IgDOsH4x4m4zPfGpCT1Y0DgC3wTDmvJqWtTo6lvWzUSTkhyNB5UC6LEPCKvvFRgpJZvlN+BKpX3c\n",
       "HFRxJy+5TbDlBtXI6JjRKhUdWt1xL2odNV7rVI+r3wg11WiXF4CSWNAV7Pn3eE9tCAHrEAKNheuN\n",
       "09TLmTT6Hqoz06wmet7ZsiC2ylRrlQ8MISej0bhcxrGBt2eBDRJH+5dI+cNSaCqdf4YO9vhZcQWt\n",
       "4rXgclToW4tFhUPbXFDuhcEovNPTnPDdkfk3CvXkBCjmJf/G+fTSivLoPBSnFKn78p6ooinLRYZq\n",
       "GRS/J/Nsma4R3Byz2iASIzVqyjwFVau4g8XpnzVfEkfkFXGsfuDCr4tWVJJmkMEsIl7Wc+cxDXAg\n",
       "Yy2b/Z1eRwcfWfJuiOsq09Mk+4/5Qw/EAxdPgdRr2bU66+X6VRTWVNNBrZXSt9VAkiH0pyS1uuU1\n",
       "bkgWgKeLylaOSBDfsWannA6Aro9XUyUq9uOKm8/M6r9dwF0POnFYeUay0fphFsYcrIJe4CcL9wdf\n",
       "rsnGqjKKltsrxfBwkeNZLT8mv6028bWOfF4ezpWshKxgpTtOBVE1AmqwOOiSBK/ixNv+cDXkn6sJ\n",
       "aONyGyITgUepNQNNVdZnZLzQDXVMJn8ZBLU8m2E9OhHlHW8tLuvtq4OHuUpob4HCWVgpBIJLMIiz\n",
       "PRhODIqoYWOqZqGiW7p4aN0J4OgGU+IY64Upt7MXF1l+YMvU2oTWzrcxU6BSi3LY4tENgBmdLH4s\n",
       "N0OvVJ7YlwzcpJwuVkctEWtII/2d79+yL2ilcCAMUtDGVt8w7hGLFyd+q/WNGo+QlkeWgcmOSs++\n",
       "QIZND5DXkAV2i/CEZFIVy/1l4thblTvDXcihWe9OXDRqtI+HSZgyL94vFAIiWpIDDFRZ04ek7hv2\n",
       "hb13UczTE1yIAZ5Q4AFfDpD23Nz17wCo2MFMTSYptg7kqu/BRQny5BbA531WDV3EXuQ3cGWsvON9\n",
       "9lWcE7fcAjZXpbIpSqKwMSczs7Ku/J7Ty/XUbV4fYZ/HpU6B0kuRgCGJpunO1FkMjns8HrKgV5z6\n",
       "lR5PhqTdovKddyfylEEC++F3haGU6XV1vH+/gNXZmJ9frqRPvg8lEyGcNqSEA7sAAAJjQZohbEf/\n",
       "/IQGKMQEt7UWyI6OBT8UadodCJAFxfpTbcKqiTpqcuv7rpXVzD/Zh5oruFyaRvluzTlEsKrWuVKf\n",
       "ffzkOo3Qql4bKC1jPAVwGPLRpyt6py+tsrNbbi2E/9K5kj+W4UngiEYPNkEAlu3KMk0Rs5oCkS9r\n",
       "Ihp8wz/qWBpV+1l7EfcyUsEtp4OLXWs7KmolxKwGeaK95HMB/sDlA536IK3E6yV5uk5etyq+Ci1z\n",
       "eJBlXUBKgS7vPcTONFd7dF/wI3Y9f7hvkJ+x+68Q5HZAfXfXk+G29CU1PXGL9YEgfo19MoOAg8rK\n",
       "lGQcyOEanyj4GWVW9qnrZqpGH/0VyFm3QP75nnODBObhwmDhPZJ/8JNBhpbNLu3tHnGvOhIhVzZg\n",
       "Wn+mWyQIx4xjKhdAxD+D5F+vhc3wHGZayZUWL/VsZeWUHik1dY/QzFbYtr03nesiGprmBkMQ/gpW\n",
       "WuntZm5TSvDJbj/jYzKnkpBQVNkaJ94WYAAH7q/VD/dsnU551FQ1Y/BQYYGs+VAykWQV2wZn8IYl\n",
       "qLi1jwYWSDhWpQOlnGZqrFGsOs0iHTuIITZqwQm+2HfgVNG6dDWIjtsTo3pW0UdFSYUBjs3qg8TZ\n",
       "CMwaZ9wRKMCiUZKUgqtxzpH61mCl8L88Hyl/fFRwuA6MbFsjGFYyT2n2dS/abwj5dtZpnR3Z0L5x\n",
       "zQ6RBAOYNSA18whKyz1qhHWT3nT/Mg+weQ895VMYXziPfEQ5LTKtqGaK3z2Fy/GyPT/957abYobf\n",
       "DWaxZW+EGjrRGWGzCuYaqjy6kc5/wF2i+lUjePkuEGTu2CAAAAITQZpCPCGTKYR//IQAO5FJ7hW4\n",
       "wKAIZ65/EUXJJbl/kMgTYRoi2SDuccNdvdsdsuy64/7Gp6PUXQTz3i4YAe6GR/W+UrzXnJoLmgPd\n",
       "BG+VDmsynPFEo2NahX25DC7wPIqw56y7yH62qNTNzjnOPv9ilsad8gWOCru/ZsX6Aq1etyzPYvpC\n",
       "RYr34O2S7G9h6vCyjejlfSv80oe6KvGiBX1blfr5PtAf1FmG6W6F427no2f2rIWpIXpU5VZMWg7K\n",
       "SUhPi0wKAtOQ4PKfUSaPZyjs100Jfs1xELp9wwezMOzk6ploCONcYQuqSEaZRjiNFb6iRjCOWmZE\n",
       "JFSFLUcCxiNuBdOC4eD0YHktfnVbyi8lfW1Aux6aLDo1Z7xczjA/AFex+FtbvLouY+502Jhwj6AJ\n",
       "JnwFtnHqhxuUBiTY0u1UaL80Ayp4sYuUO12VwXqw62uuj4//QMlA6K8iW9ls2aG+DywSBXIEuGhi\n",
       "D2ZcwqqzcbpmEaGtKfMTu69Ef5jw1fKJII7QBssWOk+BVSclSIqkvA5hGHAKcximD2UF+JnaTe02\n",
       "J/j6ymDTYhCzEy1xxlPBWOo4wl9Y/518mlbnvhxaYptMVGnBl6fEdWRO19NO3pfOZegbNMdTJrkY\n",
       "E431aKoeFXXKLaTxHvm9etFPKrkl/mrKqR8a3/wpGxxWfIEb4vKSz04o36hGddFtBoe/SB1jWIrB\n",
       "AAADEEGaY0nhDyZTAj///IQAT3Q4Ik6AwxgAORNEoAh/eyWYGtZL0P72OVqpgNVDHhJ5F4UI+ATI\n",
       "AnZVBItgKi5SR+4HAtXDWxCiMYdwB6QDdP3FXgO7ObXvl6lg5BSd3CoW7oCzPVFVXg3I74VYwCUZ\n",
       "e8dRwEC4XwNcqv7CmTPu9UXsx7ln4we4Sq2RsKdHOLEOx0cuGm34E9Reu0n9O7PaRBU2KxSbzL/K\n",
       "WZtgjb2BjEaPtxWwgjX5tstUrw9ZxFtF6r+tzSU3Wpq0aMK+GbQh/xLaPxG4mGGOroe2UmYW2Eu1\n",
       "LmsdKY6IHqYlhYXVWWqimK2DvIgpFSwAf4ySEqosDXAxQEb8ncog5S/L2U/XWGkDAvt6cr+RR/OU\n",
       "eFfJ7Oi0lpG1CKjGHPKYBngNeO+m1v2ZosOMnO7E4gMrAExO966XxT+PQc83JVXEeszED+Kj88qq\n",
       "OibeTWRi8TiHfSIkxOf6ZU5msRUGa6kqNu7q3wJYr0VnFp3aatTDbl27QE7C/jhsaT+2gImoMnNF\n",
       "l6O9MOWwwNRe/qrWhoLPii/XFOooa9IsCWS4ytHAhR7YC6vlSOAS2UEw2VxytVTI0Gm1Sg52qWrF\n",
       "xdJk6KHSEkpdpOIxcPpHW7dgV3U6OKFNo996V4UFowsnp1DEF26AVWrtvgTR6JqOgYVdMG1Y56bi\n",
       "ZsVY5wWWzm/Iilrpyu0N68lddgSjDYmVjZ3N07IZhx8bOtsEl4dm+vbnahqrKs7logi668dAyskX\n",
       "8lbQ7BbYY1u+Dpx6lzDSoIIeWwTrAZ3wODzVa49qAOg6vKh4VmdWvovdCfdG7mCUPWlyT17Ma9At\n",
       "0ndy4UAWtaZu9jjQ1kCAwaRqo3hKRVViShgkjb+XULKN5IXSFaxnyC3j8jlasUSE/QUUJaK9MqCW\n",
       "lNk0TdTTBrZ3Oa4RWX1z5rnN5yRr3nHnMQINcLg0NK2dHpOdkc6mq7Ql0sz03gzEjCdleY9vwBMP\n",
       "ipWIERGfMu7ST1cu9LzXh0FqKp58tdfV2QO2YCGforD4KBVf0yD925yheh50zhAAAAJqQZqESeEP\n",
       "JlMCP//8hABJSRFiAoJLwAHQAnOemHMd8uZGd+Jy60jCvDOzkxvZhvbMTjAZdqYp1Bw+5e/N5ZfB\n",
       "uwolyaRqCwYagGDFF8ZtVBus8e5l6CMRro/zUzDHoFLaETbe/4ITFYaaZW29xYg0pk4x2vLPLt5D\n",
       "bMtHqSgP3SX/6OfSmBzvZwSiV+0HG0bsScihmfGxXnV7EcUQ4D8iFl0ez/sQ2PnvMx8yWd3NQsii\n",
       "B6S14+CEc3NwHhnySqcJPVk8paLUI1brvT/854rBoCXRpW1y86ycv8I5ciuOeJ3zGQcGXmOl42rJ\n",
       "j9CXJNMTZMQqgeo1P0seWmZPbxEs2dP45ZbplkvGpSbnZeV6q9syyCzoZP6dbGD/1ASIUnvnUO7C\n",
       "Pp0Eczj/q0lUv21pNezIE/0rWq8K5Fqhg7uhYOE7Lx2mpxl2fypkz2AqiGKf8HGzGVATTdG1FQWX\n",
       "ksEpTIwCAmdxT/7kdnuQMl4DHErirWEyUElNRmrWhsDt0tmJxGLagoC4lwjlApqcqDz5jLHBnbJc\n",
       "LvkDraqw28+HA0jiDKgpqFaGFStVXUYMSXWQ076IlAnQ7K6hQ0wGeMofVIDSnh/7kwbNbf1NlG80\n",
       "279QIyhBQiwE2iAiJudM8nL6ZBK7lVuXoBWdTCpJE6F5YGNxpllkHUtPupe6BKOSQSeY3bsSKAcY\n",
       "rb6scn3yc1DbIgWVFDL2lKNpBhU0k7KgTh8yEshClbvNjhCayBRq5ReWC+y2el9dxnok900ZBe81\n",
       "8eBdMC3imEn9C/pXWB5AYo4orQcTcUbWZj1qn/HEz5D/RsZsJT9mjikhAAAChkGapUnhDyZTAj//\n",
       "/IQAPI+TMI5oAOLmQAe95GhRqRqdEigDoWkDwQIhyCHPLfZnIFhiz8m74lBZUFZq/JMoSaXZlOUB\n",
       "GSisa5j2J3AQXLI7EMi1PwHI6KHWJTqk2g+LHzzU0WSyTLVfuA6dGGyD66Ufhy5Pm06kNtSNo3+p\n",
       "FLJiRWbL9sDdibP/S/iu0N2hwdUtxJYEA0qTEnhzI8ePKU34eryElBnFogyJ3TAMT1pFy5FubnhS\n",
       "FHnfFDjWd3yAPQnuXlCjQwiwxZhBKvK5ockD5yHJ0Co3MUYdRIYoqsZ/TA6EMrfh55yDEBegoyCl\n",
       "zLNpnpiZDH42jxsvYao/TekwmCKs9tg0bQ7bLHh8RFyjRVvr4dh5wYouBrKkvNlx1tyPx1O9Z5kf\n",
       "F3yDvVIePecNgj5xtjxXwStch+7DECF7coAL37DoF2lAWNR3EMuxd3Nkj97mSIRXqV0MW3DZ8iEu\n",
       "Wc59ZmOYTuxE9d6ZN50d5sXl2dXId5kRAuCw6FpRux3RayN8LmnWnW7fx8jiF1L7B6joOiwqUcOd\n",
       "sjO7oRLsyWxhi87b+VVm7oTBtiQE7sTijP0C28Vg2eCLfvsz6ekJOVvhNOX9bnDWa3bJ6/VLlMKG\n",
       "vEU+9e+yw+v33ZeU+85G9wvXeaZ1EE5g7Zld1K9lr6VVpvcbEHBGHTdDYL63pzAXnrpthGYE7XDP\n",
       "L5bSiG4/q9GlgZvY3YBuSj/YwL3ovYnMQugTHD0M6yxrHrf83HJ1uqw2LhGekFxtR5G0NsGGQyXE\n",
       "Uv0nyEdfhkyFENkIVh+gAQi5UXey5avGoF/k3lzWpkBsI5AOWe6Sc0hEku8p+kNGzyOevlxrvIiT\n",
       "ezPcxVRpbB8AAAKtQZrGSeEPJlMCP//8hAA8prxGCeAJiQNAh7cCd4nGlpJlOq9pFurCzt8qUI49\n",
       "ytKvVPkNFhH4LF00mLA9qr6q5EO9tpH+DfXmnLO4nc2szQvmsfXUcJr6nlfD5PBSLLXpbrES79P/\n",
       "dW7t5lJPO5NbKKGtZfgtQv//l/aHMCsmUAK1I3J1B890pG2uLlPIN5ROkq3eSnItdr/oodX4czTi\n",
       "SR1qaipLBnoUHE4MVH1CS0afb7CPNuCTf5y/uEXLHkXIEK7O76Kf7EKSKe4UB5LMB3RsWogxqCB/\n",
       "C0tn4EbXDLqqY2ppiu2w6xou++9lu1dFiQ9lazo2H9kdN8gVE1ePWgRQECOc25xZZ99xwG7joK1B\n",
       "fB/zQuSbc5oiV54y23ZnGOcek+8xvtFBA+AI1l919R3AlOwk7pYumL36Bkph0YhmFXEaODy+fCAn\n",
       "cy3c/G52SPe1aBmfoxFwawQWjHxVlUuAws7rfoYy+OayYnrSaP6Avf9j02jNwCFaN/7Hk58x2Dtf\n",
       "kfEOCjq3P0tuw/iNBwM0Qak1NaoZeIfTpdOx2scZ74Rxswk3P+POTgSYlFLvBeEa7cBUgplkfhez\n",
       "44+8HWswSYkB7buqx3UkzDqhNBy7EgocnX0nw4QF31xrcalxA33VgoJEn5vOXSGN5WMFkII1LLN3\n",
       "WpY4uahyVaq2MmzhQacGcxXRJLHP/C7FL5GV5CNGM8xhfhdWcT2c14nSzMhw07M4mUnx/RZ04igb\n",
       "5KWj7Exyg9RT0c8NsN6yEdv3u56HR0LnPJWj1akX37yhrDolPseLT6mAZlcv8TCSn9AKln2+4gab\n",
       "RoHm0fJgKoOn+5KrAHIJlaZWDZ8Usy/mLKBwPI/YXoZhB4MT8kw9aFLK9yR6xuisyhPOswYSku3+\n",
       "QE2gAZp5UpPy8jMJPQAAAolBmupJ4Q8mUwI///yEADz6VSyHhplRxkAR7dmhUEXuQWelbd9+ZsMd\n",
       "5PugYegScdurXMAzkPATRO6Xtnd7K83HwfaQJxu/Ri+mQ2micsw1ihC+h962gtz0X/uDci98fZ2Q\n",
       "jN7piqws/cUkmDwfWBwqOXx5xcXA8Q6DWhVeVxISZ6i2coFRLEhZXYGrj1QLQdaN47/jvX+a1KNV\n",
       "a/JSf/ENeGrugtBqVCh+lGXnczgn/gsWAUgQBmEQZLVRfCtjvvxS9Dnrvzs7uBxi71FfVHk8G1iB\n",
       "D0rzp60Y7OhqOtYSE+XdiL1D1iK24l99qrFYKgYJZOiwSOVGR9ZW8G+mQFCJQMVeNHGDCjqQhLBM\n",
       "kULtYI+WEvCBqETxeIcxxl/ileoy4tZCZyk8ILmZTqgwykJKDc/KGBUdAwonm/CjoPuGjGW/ixPv\n",
       "rkT1gMi3ocwhpZmW0IxC8j/N95B9YthqEI1wYQzsQ25yQl6k0M2BYoKH6UHCVzikj76I5ZgNSFjY\n",
       "9IOS/iw/Euj6Q+isVEu0z+mGiLhq3l9og0rF4lM7eamLsDARc4wxNYFcrT1EYiOXvXE4yeHp9eOv\n",
       "t6+UtE/xSw3JaYI857N05QjLdkC//6ZE3iAqIzk5fAcy0MxmCdsmn3shOoDvaSewxCX/Y9VVJTxH\n",
       "eCv/QBZ74DTiHrcRoqyUupRaYpSOG/5UdbxNErR+GO5s6jFe58RdS2xpfo0r5S8bxEN2T/ABfHz2\n",
       "oLYPeFwGioMG5pOBCeqjK+ZmX2LHT1ZS3PDm6e/ckyiP9LWxbY4eQPT+i8CMIDgkEAtT/WRZuD5G\n",
       "BeCcO7yBztUnxcmYoVYptOlFQniYT/BGehOMGFrKb2X3QBBpue45AAABg0GfCEURPX8CPQ5pVL0n\n",
       "gOK1Wf6CDZFfJgHuTC2bT3HtYsGwyl4FFB5zAM3TTusQKX2/joiJQOD6WZ+Xz6JZlRdqZj7u+b8W\n",
       "+htiWCCeASl4/zeFNh+P65P88T9+9kfPSch3A1H8t02sw/qaikQPYoLsvkIGth9kbSEF8+k59BOc\n",
       "+/UNb2gb6ECIvgRVLBppfMjwr7NNdLYeCQW6nvryEeUMYVH7QGwqodnxs74m26q/anpSCkDNAuOu\n",
       "nGe9yli/pIun9WJzNcXMGqvd4xeLEuwpuhDO+QZmtINASOvsfj7/t/BROShf5SyNm1jK6PFIG2Gf\n",
       "h+UJlWdv8nE8BU8XAdMN8aNdTDtDTD7gydqd2FDpNy8jpRZM2FfZNTF+HzcOXQNX42zv3vwhbqey\n",
       "H4Aquxeyzb75nNXVxoEgEunG44uDqXB3ytAcXrrQoThVjlkzJ4ssi1dfm6OvDaK7WtNqUYCg31BR\n",
       "SneFBhO2OdvF0VHXhn7rIHZPaOG21G2befYop2uF0AAAAOgBnyd0Tf8CvZ8ggDy9ruwpa5OqQvQ+\n",
       "1SBKLHYywf5N6stf2/tNaTEpaVkikZPH8jHQJNZN72rj8ogs4u8fXoj8R+f7y2kRX/+LmHa/UeCq\n",
       "5vwd+1ey/2ONJmei0hvvcJUzSyEASfv3ME2Md7kEkAGmBdnoP28EkaYNqjMyzzjmATZNuBuZUsoF\n",
       "Ywr9wssVl5+h80fNHRjqUlSju5Li71Doo6YjKVt0xQeByK0Jp/o2WSC2q8l/eNoHPxvOkIIfpIBE\n",
       "AiLEOHcHjw+QAMvNJGxvIWhW4SFj/+PvYQQeJVbb2Gqe//gbp+yAAAABIwGfKWpN/wLHKEwg3ktI\n",
       "GF6SxM8CcwRKTSGaVLNJi6J4vnsRWlX3NbutpO4Js1gZkowHnDkMbDHdJj0OvJ8zOGZB3rkOthe0\n",
       "XIM0uPUT+IFvVRowmorXZ855C3LoZ/1M5zQwaf+DyAbXj9uA1kBQU4VQZQF7yvQQ752p2ERhG4NC\n",
       "rg/wvoInRKRMhsxltLJTa5XausfJZ+HKxjY0tdOtcaOcPR8w3R6y5ZIwOuC7o/SRl2hSmrTFCPUD\n",
       "lC+FQFelqODsX7fxD3W3KwPJSjjWMzlzkiTf6TKJQ5sg3l4TayNDnWNIz+nQhjbn+epmBDq5O+B0\n",
       "gyel6SEQQYlOhg/fwWhwamx/3kbUQlUh0myj2cgQsBUlsX1ZeugDpuPH04NOhulzewAAA3tBmy5J\n",
       "qEFomUwI//yEAFhhRUAW1aIE8eRjdaar2z/0jnrRSiXNcUsFPGSc3LMo9PssUBHFBWKV1H/OGJGB\n",
       "U1oFUVTEuGHtdHO1i5LL+8NQpTzJw/9Nwrt5GI5oLvjbFLEViJkJuaJbvQl/ugyk66joXrDRbyP2\n",
       "cmjXjh84j/+dg0QZ0/QPZX0xYrWSZRhGs21a4kEuTAfUKtiqG2WLxQFOV6F9fNueYqGpv/76HAdF\n",
       "qASy0R0yy+c48ShRtl2/EbuAEqkff3D3Q8uzd6ayLDuoAMzQW+94mbDxkLWylpB/Y+jPXKBPvW0M\n",
       "HivMDEyBlHacwXF6l1bwesWhdC1A8QOQSZ6Y3UT11+fQ56fk+BgHnT5NtD8+QfOjUj/YHdRDIN4h\n",
       "rPQpeA9YidvzoHkST7bZFfsXNeahBWFTHChhkQcppYwEWGTz169cfGU+fo+7kAbfLKCNIOE2jy59\n",
       "lOm4Wmv5/d1gPDqi5Qfw7M4MVJw+V77nbECvzH+SNyuwD+6UNk4oxshlvQc4YjKZ/5qYz3iZe920\n",
       "GKNx+I2HuyRuz2ZkEfPLoTz6cg0NAQrv8hebu4dbAkywXe8M1nlvwtncn9g2am4uzfhm5fXXR1t0\n",
       "V/2+qEKqw97ugSigTwkmlgI2E8DizVbok97glvPa6OReLsg6lMRjdwn+HgRctWY37HrciKpnE7uz\n",
       "VBiTvrcgB3MtyCJ17sFYJuySAUY3qF2IuDDD7kcpS9HSwMMJaNXFoabjw/uQ1NVHG0SWp09gyqQ6\n",
       "cUWYgvJSAL1CHiVfBUpiuJUZ2PuimsgfNnIM3U9kF1R/Az+VJH56M21JewfDodwTx3Y9hkWqBJkT\n",
       "XW0lXoV6+cgJUukyyjfrIng0648eu1BiftqaFydu7nUn9/xjouOz+mll1y7ptvoEL/MEYPDflmC2\n",
       "jZRzuLY36cZpqZhZAxLYWWh0MRlYS55RZlcP0ntQHGDVh7bQT9v7urw54wi8Xg8CwMqKjBfZxwqv\n",
       "+GouMnxhZAajKdbk6A+MSsEC/9pHeIRlxdpfLiYl/Jhhrcc5GS47zSBHSOzQbfBodWIgEgSlkOPm\n",
       "j3mI0u39ULmziUpwsPfAh81pHbeHQZ0M810Phjb0wMpIool01zmF8IEiSKGCTAvr73R3F7DwQpWQ\n",
       "fsYkK+CWVqN+3WTnaS0YOxPfstkxyiFIe9rdIAfuqfgAAAIsQZ9MRREtfwMzAk8lyAgcBm9IvUw4\n",
       "6wkpsfV6GwaDK8fAGQ02eRjwse3795SyTtUZ+Z0+rEFfimjY7qXQ3SnKxGfC73S/02i4VLhCTihZ\n",
       "wF1e+1OYhPrN+OcVB9aIV02bT25s4HOq3BeY7Dtngbea7/9UHK4SxCW8/y0TEXP/VFqXv8tTcVQf\n",
       "HsCvUtEDAjIRDs/pYfHOmmkFd4c0m1qFzu/7Ez8gyppXDc676IPcD+U4eEZGvYUnISSHqx1FCCle\n",
       "+86A96NuErANK6/ly3G7vxusrDkHio3fKiSjvCP1/iFZMqC7bhclyc8aXzI1ksaiPoNRqVk/xWsu\n",
       "82XGKeaCfsycdGmCA5UKIk/6DH2+quUqvJidu7+bBqPrShfu9jem2nCu1T0ZqhMh2gV06/YxU1qI\n",
       "QvaVIXSpK6AWAFq2crdcZVmAQyNAaSZClTWGIUzfUNwSiyCutcs96TOCyLvG8RRGbvwh6hUmQ992\n",
       "SKAsIaM1TABf4PZtdy2wWpdMYUFNFddx/IM1QgFsn6NlgBIlsoXYMuUNBgvkKYQyGaBIps5w6Q0j\n",
       "yZL0Iofkr4K4Mde6pB8Bc3hiqsYHjgVW0rdM00cAMWOUVRD7Opt7eB4xzCkKtoKl7yiLMKLbiWET\n",
       "FzekJsFDkahCWMdtNf8QOUm6pXuo3c1QfkS2RAbOqLmORsSkMSeEB9NX/l24/wVQgdEJI/7o6g2k\n",
       "QUhId4+AIuTH/0msDk0fTbuvWuh6HAAAARkBn2t0Tf8FYO2b+nGA4rx89qhwAAI52u0ETmgFVZkV\n",
       "QNCkI2jKumusbURipT8fNf7KyWB+phzf1+eEha4DjlAwDTCKPUJckNfvElnAwMbxfnWToeFIBYsG\n",
       "ZzNQblQKBtuJxYDzWivZwr1suN3+vl1Vr3YfPxFRV3m68BOg9nWhHmbULBIc5g9/G6OpNrtyN6q/\n",
       "F8+yQK93jPXt3pVXxOXDTLhiH36B84tlLRxEnOSXjUSQQsESHaxHtIrykSIlsILAINlXBWa54dU5\n",
       "NWJXaV8uaZvxonsMUqr5BwEOdGqHgvCn7EdidyjFkvI9Yt4xeA+DbwWIHGUImrKx1Gz1KZixrHD6\n",
       "h6FVFbgPV0CA2a4JF116of8kX6ziwQAAATQBn21qTf8D2xSs1oh1MEw5ieF/CBU6v5tTPoQfNHWK\n",
       "5MYk7/fZsitxSdyblYW6zFZb3J7AUPUXMlgHfNwY9JuWWSgRq2Z5lC5pLaZaAnVALLleAgkbxFqc\n",
       "Yc68+iApAxEtIlz82mcAGUMAt6MzQ+Y66h3BcWA7Pcoilv5ioL0lAtpSk2C+LTUZDzR2pl5D6rOV\n",
       "+iVQN/jZ6jksdohzvFBIyMMhcTk1TXonKKtjuvrKL+XUOvO4VKmUNhkr4NS/kwr5Uh4hYDVjIaUO\n",
       "KLEamwd9ugJZU+rLaVHUiaO4Rwu5PYSv4ivxgPm/CdO0MuniZ+NuP33/IqV5inp12g+TTbmuZ6ev\n",
       "hnGHpMyMlrakgYkY93UfgQhbvz0INiuzwBF3Xk/979lvt+sZ7JqkfFi4j1DSrH5rYQAAAw5Bm3JJ\n",
       "qEFsmUwI//yEAFgny6fcD7O7uqgBtl3Decq27z7SbKyPDz0ZyrjwL1SoNtxJS/2hM1DmeFoJFxyP\n",
       "MYpv04pW6FtEt2k5sK0Wiimo5BQwJdJuSx4jQ8pRFu1JFyGXzdddoiMK9Dd/tOkgMnMPoRGwoXTZ\n",
       "U+j1dJjxF9LpnnaWVSLgba9OJIK9bmhq2OHm/R+TpT0AIfbon6Q+cPJxDrbYfhft79fWRBOMkheh\n",
       "Uc/irA65QxF8wRHbHcznLtCECnX6kXPoN/B7nGbL+swQW4UNzjlC9mAkffezSjh4VljSbeS3c8kW\n",
       "NmU6v1a3kur/CEyRDfLwvkyTNxpN/gz99X3j/744iL9ESAnT5g5Qu+UDXwdWQJ5kzfAdy5W7Kh5e\n",
       "+6Xb5RmtO/i9128FKoeS/90erbhkTyQ3jcUJ5lGSpz1FCKQmhYRFISA24FkR8kgq10su98JdmZKJ\n",
       "yJjMeLqFS6KbljS0SiCM2+XjaT0mZxO/w1f3svnde5YKzXfJcL1Fzu6ArkOgA0Qoe0Rawb2V6XkA\n",
       "kEI+Xr1JTGbz3xUO3Fxm1+3NzWbruYELWcPmOvAtUXYsrBTOywWzVSi15K0kyOImR/BHyY1Hd/pF\n",
       "WsxZu52oCr9yDtdmIUQSi8Fb+gPSw4NJG4xs6VnPVSA9Kpm90jZds7GnEjkZnD+tlXIgreKxEvyk\n",
       "gZ1ZImI7s2JRZzjq2HadvjLIjT9uRplZ+uz6SCYAho46lSw1y1qKOgGw+OqkD8SxjomQafcT8hUP\n",
       "YVrsucFYYQTmb9AR0T+tgF5GpeLDYPpPmOxgWsKiMTsEcTmyKocq8sMpEG8y52V9erds7sYDCQy9\n",
       "9Nt33cR2pU6gaL6C47oh8r5zDeVxqFYFvtxueB8WnLKujrSznpJD1Ikheqp3Gm6DTNhgmxlGL0mE\n",
       "QFRbUHUtae+rw7klAkwxX+d0CIBWy19XQ41MA+PYD+cz8UsWw8ozJ4EKoaVIVJnE/KwaYTyLNCkd\n",
       "CqMJQDo1JfDnJDwLQfQ+Tf+WrIMwQTnRs2kURnge7PHBeob64QAAAfRBn5BFFS1/BBF9AaAhrGnw\n",
       "Co7jyaU1ojue2/V4IZgNR+RKkXtt8Xda9GztUOA68e2JZtiv7GQ3/hXHbG5JHQ5t/sed8zLKN4Z3\n",
       "KjGRkdQAaHNu9pyb8MxlZLsnVLyBOHwEmaAXhr4bl4IlZoDywIGaCXP1cwQJAPJOP//Hdf1iygLv\n",
       "MzrDwGPo0PDw+MQyDGFav+GVIF5kNWnscIL+Eh87aQwoxQGqx8PAJOX3xSDxZdSjmCtIZk/lDBaQ\n",
       "BN5KvH0puy/kjTBkv2ZB0i+o7D61iJCEbvvOzdbhCq+qodfPhFXJq2fyQgcr5bfQ+AhAFTeaDz7W\n",
       "6ljSd/64dv7C+Lul/iXJvl/+K9OclQxzurL5o8yXFtuuBbdgAnqGuVQZWGHJHuIoDnybUoibyeiO\n",
       "17F9TpDRYxteV5i16JfaqDHVU8CqmN55WQm5PeU7BAaQBqV1ze8oZyvxyogtgU3//Hiyc39DP9aw\n",
       "ywUhtUVsCkxwht7QstDizbYHO8EhV7vKUeG7xugahtc9+4tUJCPE7KJhpgNQ6WCQ9QmGv1Xsz3hU\n",
       "OhDKlAZXn84Opu9jZuNJG21Va1qFjP5LKKHD1NK3yj80J1SzefdVntZ/mUMO0XdGSwHKkHss0GDT\n",
       "Wf+WUHucT5IMx31+CShlkGY9EMhImFKNCDbhoAAAAUoBn690Tf8HOE8w8PFoE8gEUUUsskXOrGjU\n",
       "FJ1afuTVaOSPseNOMcljoav+c6NwIJ8j7MM8Ran2/wIAv28vbp9JzTllC9IQDlSaJJ8GI/Brcf/h\n",
       "58U7VlBNI6ZCrmS0L4PkPn2u091njWUp5euZIJ9xrECSWJwM+chST7c/ENj5y0c52EpR2Nu6DrI0\n",
       "bum7rOrQSdOmlMUhIuAg1Qb7hhxq0HZ4Wm/usAUn55uUbCuypV9UnSN3zpYXPlO/5KFa0SMoUU0E\n",
       "EX4XCy5X/Xx9WXcESo9E08uIRK7jT2e5HQznrtIR8GnxFNhmQAcOmZxtol5jvMjm3HcS3QzUapAu\n",
       "xnrRQsL29CrwTH6AsZtHh+CU1dv2NlvM+kRN5WzLJ6CK0SWXIx3C0E6tGRg9f/xBtmb0HElfpbG/\n",
       "fvI5ju2YKyKWsELFddHbmmhL3bAAAAFVAZ+xak3/Byy+f0sLQ08EvQzkP6nhJPOUWNLbLcAuknyl\n",
       "qhobgns4nqqotsofC0avo06r1+SUR3KF7TOjXiRDFkBeuKMmgOZo/7nBdTvOlBJ/r7eoy7W8GbjY\n",
       "guHKSPhhQeSGnJLt/g5rMC1RwHJZ0VJxkgWp7qNJFpYyQ2acT2gmRYpIkHBV4g/kC4epcRPM8Wjv\n",
       "zu9PiaXfzsSoC54n1SEhae+ChfyWBVzPkJR+p99svrk4izGaEG8Cv4W5ZOtmnoygt3gXWUzmOwT3\n",
       "pcTElYiH/pLxx5MVYnKv92gEbg3S3+JP3IgybgLG/JIQHmvcpywXfqmrMBB3V0VHrvYv7SKB8M7G\n",
       "XSg3oGAmQk5iEloC894GSnIgpiVzutCG0QAhNzxD8Szl/RkPSZBC8fJo4EzchbE2XnIGXlC0xyn5\n",
       "jRBbxzhh+XCuivRtD/sw77jVUvIPefcAAAK8QZu2SahBbJlMCP/8hABmzWqInboMZ+XBRUdf5+8w\n",
       "RYzNJz/IM9z9p3lrtxNHy8fXYE4Jk5X+ZGPl/RvShtnCPAvHOlBqo1DorUUikh58eeny2DOCScWF\n",
       "OhFWcDSZQUyostyTlCGTusJki8vnCN3r14RTxU4IFYywSmlB6bdWEsDVPVzp1a5BCfP+604unfAN\n",
       "8kN9gz1c2qvb86MpNhhQM7NGR9SXm313LW1SmdPGvLDmxjDJ4aCXpeFsRr9r3hVq4N2wDlx/XVAc\n",
       "FTviql1L4PZFqnNnSxQHBbkl+ZbOJ37D7cAlEgKk0HH/TuaLsS6LZnjCzI+G0SdC5qi/C3KJGuKA\n",
       "RDLl2G44vuhor4tvhy8P9MdNkZ2m1orUVhbdxEjqEFltZjGscuStcGfoiuaHmLGdacYrzRbNOsk3\n",
       "fnN1rNo5c7kVkfMjjW5E+/92g5DHFSzyuT0qCCKnCNVRp8koOhUsALo9GUEpy8GrccdZgptCGpsL\n",
       "7+n56Y852fyXaC+1yoqYDdWeemrvjO7zO+nerFhQU9vZbE3HUntRRzh+JbFdc5hZg9fs2klxUacR\n",
       "egp0F7AqGbGWK42RO3rXlUOKMRPTtfyeiQex9lrAjIUZ/9SRyCKGXKOWEEJGCCwWtSTXdns0U+d4\n",
       "piMCA2bj6W0z7GdicfZxRmCRHLSYr5xs0fsyaqYY/CJq/Cuqvbr0h5SrHhzCNFqeoJ5vuEqeAYVZ\n",
       "c1e6YaA+NxcPLrkfoDihgYe+wM6T72uEJl7RrCXYPgGmKfvmsWjPpvIwhd2LVLEkw8WlL0aIA4x6\n",
       "64hFgcVUj4aGCEv+vwKdbNtETEb+SUgheUDrZCFhpmclQbtUmkp4SU9eOxDRWY4ue3naII3aGrvC\n",
       "lZgjC0ABMpXGvLAodEE5yZMPnwLS04m2Nfyq+uONQDFjGdnTgqhtxoKyAgAAAY5Bn9RFFS1/Azqk\n",
       "tD3k5+viAvMgyd7STqctU5kHpypGH4VKOubDK5BiP8WvEUnOqZmLzhgOHnol/6TvVRYg0w/Z/jjY\n",
       "ocT3YzuW33y4kFWpaqjZ0giYc810mkjjSs2p7MAMw64El7KMsbO0Y6IUXFXQgHon80sPMf6PDGux\n",
       "tTfPJ8M31bGYKYbcfhlc0IR3aceKM1IVDvGN7eRYVzVpudlwGGfzBgWF6+fyT7ysEqQkl2FhlkgX\n",
       "zOzxnt2BcLGFu14Q5Kc4n1VGmIRZ5BEPNqom/thqNpVIp/9BMKLJ72y+lKjgsZYNgl1HxfUqN83B\n",
       "0xsIBPd+qspx/ZfB32tC/WASQO+u+NMPVgulro/9UM9u6cZhEWMD8c1HO1dAKyuh3JF9p60kW9BI\n",
       "kF0xWeKbi7wDe9XWY+LtJ2jPNQ8C25gVr1yLmB3d0nnXABxHSq89qHB/Er3hWrK2j+22/mvZoQdq\n",
       "k2lVFyAPlAQD43voRxlqkg7Izc9w0eg8gXpxZcbEKEpAJ6lvWl2ifXk+qdRWYAAAAXwBn/N0Tf8D\n",
       "2LdsZazIGVynBkk+24l/1D8PvFFPAY3nOm7EfXNEO7BsFMkJuO7+mxUK91Hln/9zF5w6n7AViHv9\n",
       "v8VaQM7OWkJngsM8sVyP2FGu/4X6NH57mx/vsGfWWREw2ecskO/N8T9mm2V2u18DYQHfhPZFopLV\n",
       "QazaIGwWXE51bkZiYcKOJyR7fI4P3A9XMuB0g9onHREGJ5661wjGl/rByDEarFGCbO1kP1gWuSup\n",
       "emcgAFP5KEZOdZc8ZAsVe+rLZMfpKPtJBRY611eik0OB4GgPEbyPhELd0m7ov4bm1auQG0E816mi\n",
       "lSUFnIO5+E0Re2rA0yeCjIiKqfntK8T3CLhZdUWAB2DT+VZS9g9epLmK7SaYjDcHSTIZOq6SBSTr\n",
       "VyNSTGh3/U87jno+e3XO5LNX+sfb/95HMtF44/9SqggzuyUwLaJTIO/b0Yro0+gt9PuevSM2+tRZ\n",
       "if/7M2wchGrBm2uF5oHYoXAgMRkt/qUKeLfdBVhZUQAAAQgBn/VqTf8Fn1ncCXlQiUB/7VBXcnuV\n",
       "+KjDvcGegWngElRVBUfHO2onC0jdlcUmHSbjnuSQMjrAueH/2Uz66eYNhJskSSFpKwGFet/rEvHB\n",
       "52tywJ+VZa/jm4tKv75BALIHlnD18z9wsRR5u5g2Obh8fObKL7hPLLhm64JmEK6KxZmH8t3BEHlI\n",
       "9atXEOzZ2rdNjnhBlvAkPZWgEtQRVsJouj0g86rw1asKD5X8MbU8LoBFY5Hzc/XjAf5p9L4S1JZC\n",
       "KwsrQzEFEME/nWC31a9UU2YltrAHeewl2hlKklt8AqtI5scs/jS0ttLswvDm9tTBtYi4v1QoDy15\n",
       "B1yB3suyVOwmvpHnQ48AAALpQZv6SahBbJlMCP/8hAB+r0PACwOa9ZJh1OnEaZbrnrJp+nGLUwmb\n",
       "/0nusCLWAZPg9ia7E91pdMf2gP+9UV+N9MtiaGMBR7F6E9Mw+6yJZyH8osLuHCmLMwgrIQ9xmfXe\n",
       "cost/6L2seoHadmQvjif94q9cBcbqMS6CkaR9gJI1Y1HygXScyOJR47bGPBMHz8W6XzGvWnLTNiY\n",
       "0/7jxqSxEP4nilhj6AfXPWeBeJmA2jnJzp8JsZ6uQCCQVxvEKson46GCMtEdpTWPiBv4Lan3u7Ey\n",
       "Ch9YodxS/Sknr29SHKvVAT4QZA5LZLLTkjcAcS3kOH7rhmUDBtoJC4/WTRRzWfR8vrUd2TgdJXo/\n",
       "tgk6l02NlYnOJMC6gCn5nlzMRCXBq1L0loB2QpY8VqjKxs6IB9rl+9Chycq15jTvE+yJPdskUR9I\n",
       "DxaLvDZDWYp+eYqwHdbNFKzf853La+rSJM0WOS/Wbv2+y4FyR4kX8qytQJJXHCk/OiAK0lFZQaNf\n",
       "dtNnZlFL8DwB5MJUepmzXoRs18xi+/wm3ZQqfddrd50jJmHHD1tjfvA0sBljYBY6r5lnkgHEptH1\n",
       "wlQt0A8QJP7rja1jkpj8zQZbXnCrYOIv81fbQ8ztVJv1GqgVHSH1b2YHC79Li4jY5jwbHhPmA3bT\n",
       "/JzmUNKBsDcRUU5vdVlyc+rJllFP3x8AFaHxLpzEKOkx8oUIPDFxez3nbwtNKIfLhF7CuG8xm1Ch\n",
       "N5/SPQQFEfwgCa2P//AwA1grZXs/8Qn7hf0eCPRP50ngg9mFsW6e5LKvqsQ1T+NceX2+qxKvDkGx\n",
       "bx4iky9uvjRVDZFUB7CspsJdzCCnIJz5UVJ8COaOYRU6rsWjPNNoREgwqHCCQ5qVvi1KZexHCk8l\n",
       "eHuQcpl7bSfCQAIh2klgkm5PuXGDIVtNsCmPde/ML5vbDTke8YWU+0YMgLkHVP9luWeGdJsVNKuq\n",
       "QWQKPR8JbtjVanEwK0PUYLHqeM1VMQAAAWhBnhhFFS1/BK47+XzAOlKzcY/pRMC+KgGu+h/Kc9hQ\n",
       "gX8Z/CjGK5hCYFdn/Y+vY+XDn+Owo7t+m7gNGtCRT6IUG8jNjkjKu+OWxLX8SzuzFYTkbAD/azXr\n",
       "MIlheO4qTx12/bfWN3l+YWQ4Lq1v7jQIDKBvBwUUKCFScXEVg50wfdNsObuGfmNWldpejktqxJNa\n",
       "Fq49GebpBYL0El8SjA9oDV0m4OmS3puyVWFAiamIuCXTWlN1gEV0HkTcWedcZ5bE18wJ4V24jMb2\n",
       "SL/zOIJ+iWZElVIMGvLtwY/0xkk+XpS0+RGnOH84db4rIsc5isILvu9J0D/RdP5ldQatn7+quLBU\n",
       "7o5hZ4Q2/3r4g7zIvqMNBntT5CDsxCOIdUCJOVUswRM3aUBwYbhw7NsZAHb4KYzFujVVleTgbnXf\n",
       "UzPZ+QViU9NjTtEUhzJk/Ke5OoAzxuQmq5iIYzGcMWDauqMs2j+2+pIvJY0AAAFrAZ43dE3/Bzht\n",
       "coD6L7Y6+gIPWzlfj4mZtGp38sdUolYcMP2Or7kerptpGKKTalvLApZ90DdJdRAff+bDl72AD8Sk\n",
       "uYRPQJeU86nrk2q7tZTnMrqbRYGLjCjqSw2bPd4nRNQiruI+eiiUASFeVNq3iWlU7CjlEZbQgOtS\n",
       "Dj0iVX49u8muNyByngOmelC//IkaEnJ3+Dg+2MwfYiQDJyXBISuGtm7Xv8yQtRKqj7Yf4Xo7zHki\n",
       "UXEAFycehy3hb/JpXg398o6GkoD8POXKF37BggGvYOra2jBswNmGw798VoBaFOwbo3TOeIdkCfsZ\n",
       "gKwYcP6BDNlOr8yt20w8ao+AA2qHHWV1gE+BA+Vjku4OyGUpp41sSLdscXWTjeguH5FLP+LpNyiZ\n",
       "HKcYDkya9cQip+6lP1Rt5SKwKhRkGSA8J2uBwQqPskKXzZJl+BKF6JC3THigvQaALdiArrRgSKI+\n",
       "PN7QYP2QSxgktYVAAAABngGeOWpN/wXNj95+AASZAJtIGk3phwzwSlXoNTCrTs/VKo3+7dKvJYX1\n",
       "H8orlu/t22yxJ4RlEb6qwaJQ2d/pWXjhYarpxV6Iz2e5AP/dcG3CIvomk3k8ipKRNGjkc32tnZEd\n",
       "HbbmWe/9O7jG6i9Ghu/kiKcvKtOS+kNgQ0JWrjjf62Pf8xBmSbbhD2tiSazufwjC8+vTbp5xZju2\n",
       "toapHxbRO9wrYVazm0IUrOCgX9uQ/cZ/ZKlI7/cVs0Di251DbrDAVOlrbC+pm+DBM/hqL2/90FHI\n",
       "jbFXV3KRiyOJFJ92Gb6P9UJd2PYPChc8gdr+NiCFehUrM4XoSCHRjJiX7CUBrUG02VDKHFsrfC+R\n",
       "TmO6+x6sar0lo45+H2UTfi92TWY/nnU0As/+8w5a9cV/DSFOo8j5sF82CZgs9S0i9bnExHSLsAR2\n",
       "odmTJKesO1WXZ4+hTYAAeOAAN4AAIG4e2Cg/eOQ56BtSXwyJLgHzYFNloyCcrVEYhNZfZ9aoh3aE\n",
       "8YTxV7KCL8NAc1XrEOTphfAZHLv0nc3l0nsppQVtoQAAAiBBmj5JqEFsmUwI3/pYAP/MewCFKSO1\n",
       "3hdEG/xqO2AktVcge2n1zNJ74Vv3JV2xr76Glkvp0IXm67uGoPVaKTxvw4GE1xOh/Sr8B61psTp2\n",
       "nVPxZBwOtcE6ks8CCjbfdbr/eGeaXETFAaTl4Whq4o7+W7P4MECk+EwyIjV7n2zmMfgLKPG3zHX1\n",
       "RmB7JwzjLqBrxQO/qcRqwT8G+4wIgD4Wg00vDfq9yOeZNZcA8mTYO/bJaj+QkULN0imI7d/dPWQG\n",
       "GJzi8Eb2WTCk1HQjqoNS+SIUKTPn7Aan5czKhdobvxdr7L7qTw6ZXthM8efdY86PdYVNmrRC/o//\n",
       "R5ZGIWR4GzD9zsDW7Oh3SzU7RX3eSq5pdQtIoOV+xAXPbTd41H4zWnd0IPgwvqzhy4f8b/zx6JvA\n",
       "YxdhtmaIfI6U1QVXZVXEKsgnQ/RLSij5CmBu7GlARJwntjwtBeDJhxXZeLlZN5CCHZ5NnIOpiogv\n",
       "g/62hP+nmlvcoJM31uccOctML7OB1dEfRy7AMK8oKgl2Q9bcKr5Ye53nx34Ngm6U9Wdfi4razRrT\n",
       "vW7Il/1/dcvvESYTtOZIIKOwFEHMjreRDL3WgjaePXqbeNixWEF7sOOjUOO0cQJzCbYSi1MWgS27\n",
       "QAfRu8S148VAZYQkbI3iiyZzP4nw3DY6XKy0jQNouE4tASUZ0AUh0PZHevIuYbaOfZ/+mxH/crpR\n",
       "WT9wz543Me2AAAACBEGeXEUVLX8Ezjv5bcAAAF76Xmn7jqsATq2HISG+wv1ZEe/ooBp8ve2WaM+6\n",
       "MHzLer3I9Zk2fW5buhCkVTHwIJZ4KFH3D0g613WEs26L71o3Am1HrcIBsxdx3sjcK+H6l/rRxB73\n",
       "adyDnhyoNi4G8ajdiqjlqtJFBTRGPzzFjl8X/lDkAPapiT9en/6fhdoWoB6TW9x8ch0X9AGG2Fdk\n",
       "1AlyJfnPrQiHIx+XSDPqaZdnOBLE1rvRVygkrQ+OHwgvwKxG+H2ZAZ6vGZdXsF++BAZXkvtwD4VD\n",
       "0uGS41+UFLrW7LdvPLMD6mZ0a6FUu1jlMlEiuibqY/QTeRt+MBLbFRepVikb4lQ7ARi5xK/8NQNH\n",
       "7jLpRe8goXE/jvK8H6kDr/kB2tjhrS3IuoViOwGFhfyVpdTKJhadx+rly3su0IK2qh+rVELklXyn\n",
       "ty+OXg1epRvG3Zbw11v2Dc7wVYavZnPV5DvSw34RudZB0mmZckcZS30nXLkF2WZNx+cGLMrpSiHI\n",
       "cTLUgxGg+gpuB7fjybRBQZHmcbAUPlyA3joXRuP5GcNeELpI+YonbQYIQmVFTdC3kpIxA1eyy3nG\n",
       "GcJAxFkAcZk05vUcM+P/lOsJozV48SGUjDo24hGTZ5H72SsKFLc6Ngox7t09J38xspGJCzyuYu7F\n",
       "rHTUSIkF9zBKalCcskvbowAAAcgBnnt0Tf8Fv/gAAFmOHnFlK+YC0eOKeBQ50CaBBCfumtuDEMvT\n",
       "+nfSGdzH8fRlo17JP5i6ryp3aYV7FAtYuPOXeSmTnCXP9o+woNTchPu4yNuFNpf/x7/SRwqXisxB\n",
       "mTNf1S9Nq0EZVQEe+M6Hk5yD7Djn2jhN29pSFw+La/b849+AHSoFlAXp4yV9N2hdq1aLCnR8qkeV\n",
       "QkhzJXB0eh0/tZ+3q5nsSGGVt0MKFvMovYfLcM/rBlnlC02HnKPPORBcizj61XadYhRbetiQzps7\n",
       "nET3jPfgZ4nhvRu0oK1MYQXRzTkkXnfLT6Ogawx77WDoS3NYkLpFf8H2vMuJZIs/sL+dMfpVi+sI\n",
       "g/jWM5D+YFASNl4EU8F+NFAtJS13zLs3OrHJhhKDnbumEt0qzonalcwv1nzw+GERNv4zYu6wJimC\n",
       "HEiAdbXXSeLtXWPyUrrYaIpYLbT78iwFRhpY/XNhHqkK0taq5aIudC2h5AQBLzZuvVFyILdA6Qpd\n",
       "vw5Xc7fZPRKkT14f4xRrUzpUWEJovZldPLnnaWyFR/Ju26Wz7uiFFgtLeFQ/sF9ZLY4Aj53McoYd\n",
       "EH/9yUgESGOQLnz4EQuLGp+qV/UAAAFCAZ59ak3/BfPbZ+vEBAUULkI4YLqpimoFR/lTNNnESnT3\n",
       "LzhCqoZAVLVBmRJ3+c+cNEwwt449BFKow4xTmjVoCTeY4DphZ8Pn7v9DpXCzQ88nJ4MNrSBGfGs0\n",
       "WFRd8EZ1g57oAWTcg5K5ZmJhklnMsGTYZs50pJNc+ZEi1rf15Z0TUTrqj7ofyAABNOgAwcnRZ+3f\n",
       "zRPGbOY/yfkIE3T6HouC1+DygUuEqoexz1g19+HsuNpyKRsOrH+v6gAuv5xaWhUm6MNM68XhF8qB\n",
       "uctVFTtqCqBvfjk9H2coPemgrRif+YeKRgB/Qy4zP1cDWcTAdFimSnVzOwha+/feRJOwAHlxZJJw\n",
       "NjBjYw0xeqD0nlkvJx5notycfsViJXKxJyg0+8yk7fDpzUkEcHCmqn6a94Tv8VfhjXBXYAvMRBBP\n",
       "i7S9ZAAAAtRBmmJJqEFsmUwI3/pYAQfMewBspBvsaLlqKtLex0sJf/0HwFzFAADHyqUwlp2PBxSv\n",
       "0uzfyAPGt5pRrART203tod7LiQcrCLwYfu3AT1LfV6K5GenklfD/ei76R7s/xCo6axS1/ZhWek0S\n",
       "iK4tlZBCKOTYQpzuBjJif9sVZuA/RMAuilksdno9NFdr2qCbPahPP0hxZrDM7ojvPvWdGisKH5cU\n",
       "OWJsq9sOUQ6ktmaXbNp2pr+DXbHUkBoj7RQPZHXCVkcMLqbyiyVvPQpgZKY0qIDcWVharotRQzIg\n",
       "FC/1yiuFp1yktEBMxq78rEP3N/gNCM155UQvuLcmtWbUkXrz+nQok5RHaXSMQrmt4w+G9dW00Vmn\n",
       "4z3yI0I5tVqoC2vt8KuO9PDhha2xNcravNVkSlTsfh/Yd2h9uoWDWhDe9iGU/vN3kJTy6HtgL8l2\n",
       "z0yv27dimM20z7UkX1HtkzFZCdczTJlOwcI5IAI/n2h9jE/xefCQHEznHekvSL9/RgxiWsXn3onM\n",
       "bb/sUHBSdPVkri9gT3hMVvoOtDBuYfodePmnXen6oP1+5hgeAGWhXoCATQAFD88sf5qqlm8aIdRW\n",
       "5FNgcb/cF5kptDrcQY18Nr9/N5ztXSDEfXLda83kMGp5JVeekonrv9HRF/u8tyupNRjiRsNiTDqz\n",
       "3gJSR9oVR+qQ4S5i7o5NYtVvVSPB2ez2T22OeNbt9gM3sZFwP4w/H1eRNHQWt76ZoCOxoN1g9fl/\n",
       "xV71F/KiI9HUp3Xou1DxkFXPtchUVEPq+0Z4nnbhLbbFo35Pjp3SemUj8FteNtHyyO2tkThd17DQ\n",
       "wdpjstx2hSxxM9kDm0dvONgxHI/uESAA7RMS3foeJqMKvUKMUVRxVlcJoWl8sx+SOKA6rBiuayIK\n",
       "kZwG2f0MVI7gXAcH21McvbEVr+hUxNdMlcsGItTble1pPflprW/Ft7QZDxIigvgcAAABwUGegEUV\n",
       "LX8E8BKgvUzSwAqlhblmz/TuT8iWJjAiklxn5aqAjEPJvXJtDWxQGXQYxU4tTMb1VaPmAMMbJpvG\n",
       "fdpHskoZd/rm+TmUdAdciG/jwGwydJb1WvBe+5YW+gRERRyKlL8eMX7HC892OECHN0JsldumxL4U\n",
       "NAzvqK8g7zFf+JKzhPvsnm4jYo39/euQp9paxeMFUYnUOsVE+kDxns+pCfLGAEJrvOXcAxJKPYJv\n",
       "0h/NAGKC8vhAIubDOGQCw99dvDAXyhMTz4bLtiz0BoqR/rK7sfMipZ9oLIqJdv/xmd4frPvJqNd8\n",
       "NzW5TD8vmcdKjtV69Q9r8on2BRPoKzXd2kbKR04nXX/Hu1e/9zDyU/jNWt3npO8qHzCIMF4qY9eB\n",
       "mPtKbVQ42C1th4CkHhCa5LG7LSE/zXQGEnJOYpttQVO1+hYsvLH67tI9uKcawP87ESRRUQlkP3E2\n",
       "MeJ+k0cn9rFRnQTtrRhpLJaNC9QP22Z6iQSoLZvstQGCqZw9YMorUshP1iv+PcS7ogf+P+Nkt//8\n",
       "2P47L1U/nDYp/jkOTQAhcSIsBQejNdWi4DpyK5lI4gKc5Er+rj7BvlJbWH+BAAAB5wGev3RN/wX0\n",
       "7uEtqssZPfEiVxI8bJY36ulIZe6c82nvok0RnDkxp5bjNbTdOaOcLtiOpxqnk0h2h3YHCxkjjlO4\n",
       "dNvbQfcDa0bpjkcEikBUc9AAPa8KO825vbrNOnujWF1fj/lTCErdHgp4CGDOHTTtYWCVlGVHNNLi\n",
       "di7z1IKRUJcIMC+RRSvf/xC2T8VxV3+YY49qWSFwHSB0jfcqbyHKtWmBAlxtkFOV/OC8yRq8/w3e\n",
       "tUKDCqi5kY5HOxACQ8Kmq/5QiIDVmFYIEjLeP8QbtKCYOJoEXkmZsQ3TBBJHhLsaCHpsThwXFU+x\n",
       "2dSA06WxIb66USZ74anw8J49MvGlAA9tgKonyzBJ8Mi/C1wUSBWZi8HI1e6AG2nXsFLRuFY6C1mb\n",
       "YPFqlLT3m1dDaCEZrJa2tzxB3RZrCNn8N6ghyScgyznvqkQhjWsA9QyNttSwxurlvP4n/7K7zr3v\n",
       "bXt+qXAoa7rLNRbPadkwH31SQipCqUC0/3ixsP4ghO8B2HHPoP1N+BkHiPgKIKNLgqnPyaGE50bY\n",
       "iUx+bxpvXCLuUfDyY/8th3s8MsVBkYTNJv/C4TEOs1eBA+f+pvJFZ0smXKTGKCW8ZVaHZ/TAVOxG\n",
       "HlUn6svGcR3LVj+Pat89auIPdJPbCnAAAAFnAZ6hak3/Bhvf1QJyhHR/U+tUJjhGzZ7BYOZy8eQg\n",
       "zzq3jdG+dxjEj5aOyJsi3ZuWvd+oAkLKVyDym3lfh8xYKRCnIpJVcHHJ9jxZ/1Yxt+/3kkUok8ax\n",
       "FQqNq7aZNFzagAIiIio950opegLQS2eTX5mCko5NiXWRW0MgrhLif25u5EWV39zIEVK9Vut/8/FD\n",
       "d29dTOfZ8Cd+vP6E2N8h2xQfrgMv0xWtGMLggFwkN9LsqcVDf1+4QjXuB+mkYF+CmiC86092KNf+\n",
       "yNunOuOs4eM3GxYEifasjia+yrbgiOF3zTNYwJTGPRhIIRaLdonx4/PwjCu/kAfJ+Smb3k58f8TS\n",
       "9gsYi4cZ04Y95FOjVMcFmkBVvvRQsMWatrMaZzvB4fYQaeP6G68no4cVO6mS9FvSo2Rjn4U4CMcH\n",
       "sGlbhib4lDa5nkDPCS0Zd/GKcqNJQTSOUMNTGUIQnAzOQVgZiggdLo/+PIEAAAJrQZqmSahBbJlM\n",
       "CL/6WAEJ32Uy9UQZeMB8GD168JfpfGbxFM5WCojsAgh7WFxWV3Ty21xSITGzvRgc02rDhEWAEZ98\n",
       "Wz7HauGqU8R2kIFDluvNypE/mt/fu1yUlgovCNn/PZnjwJfx/hTh/kc0AvZY57K7AmyROjTwCgU/\n",
       "KhKIo/Bf4h3g0/34cuHfGx8a5xLcyl0MdCj8p1ecX9kiXdSxoKvYUpMsVIgkRoRajObG6UzA+Vli\n",
       "BL/w2zrSjSDY8CHRXIMvx53Mu1mc2Yjr5XWYbVlK4RPWcftIDQGdHoBvLu4Sb52n1oL4F2jVG0vd\n",
       "K26u1xKu21lvhcHKZ1cRzXIhEKsMKuBqoONgG4TBdUZzQlztcDngLstE6Mq6uoSdtsp4npFFQIuq\n",
       "rpzMgRDfbIZhJzMELtHIgCLphc/y/HNU7ZB1iZ4D+0jGAWF1XoIvI/yQ7mitWJqZG8/uxJ0fEecT\n",
       "IWy+x59sH1QSR0K2uvymvJGHTq2xd51eU98b+FiFzLh+F/0TuM7sYQXCwEr3lpO5ym+StKT5tiZS\n",
       "iPQ7A4cl+u2doFoSuCozcz9AXJNvN4MiDalGZE3VnYM5cx1jgeht6rx0l4Q6fP9FNXof/M6CW4d+\n",
       "3j9j5g9avPn4YNZyW48Pzl1hyOby32Vt6Xa35U2Yk9EYI/X+SLX0YLTeytj6dMH5mI/25pF9ccJJ\n",
       "GKdXuwLxLyWyJ4l/6zm/AEyY8gAIOWlFwqJGig2yTdtTso9GIiygiv+s0qt0Itihwc7G3E9LKWOE\n",
       "yr0+wqySfJLhp6i1PjNAch+HBZQrjly2PMsh6e/MiE2pHTVQ3F/k4AAAAZdBnsRFFS1/BPOI2e4H\n",
       "hOsAKPDI3ENins07l0sX3oiyGXWyinZdMVk23oQGp+SwWRbHUyDlLRbIA+ILv3IaBZN2mX4pczJt\n",
       "BqDTOu+Efsi1j0xabjnnAlavKAPlBgAUk/7GVQmE89pxJHS50WL5yZofX8Xa96U8OMzdrHHPiAog\n",
       "p2yD/hqMwe+1+PwjnExxbQUlRIIF/JLVkd0ZlsMbK/J5A91C7uDYXepElz46Z2JxQt8XricL7URI\n",
       "V0Q741kaWQOClE/6GQFjT6T2zWb91Q5Dn8XSjsO/I9SQ4ZCI+NO7hfgkVUMy7oSkjhbDThUiMr1I\n",
       "0AjtxGow7xVWIS5/Hb4+jlWycv4+ClGijyrl4gkJVt1i/3VC22UYzUcU8YERJOzI3/OAqKuamMFa\n",
       "L3pMACtKU1hwFuSQI4TXWCfORf7woQW6Hu+69dqfwonwmDmlDQAjCfkTokumw1VdSfjiZ6Z9tGla\n",
       "zTtEPuvyba+i2enjXjJzJz8Qb4KLn/R3iIgmYobIdTt6Qp1P4t0KlI1UdSHSfZjRtBWZQQAAAYkB\n",
       "nuN0Tf8GDX9KmUxwkEiwXttmF4ht2fraDqH8gnZeKetbgozfhkDGXsWK1MMtCgbBYebycFnIr+YF\n",
       "QgsoZ4zhRebEDLr4/uf9HCvtQV2wj2R80VUUCCJ8QHLPYp2RZnUo7zkiOV8rlVLBX718l8f3U5OE\n",
       "cVlUBGE4XkpzGrzwho34a5eLLF6jJ0lSH5Lr2014iCeHzrAb8QHegY89MbePm9KeoC6D60DemEIr\n",
       "wR6msU7vEQaHrDhZBknFgflt2Tsdk2STpSfwm4R2Cm+PDfja5vfEkTFaktMB6Q0NNoGsFfLALb0Q\n",
       "fDq+EZK+odv1FoiZIPjB4t/MbC9Xy6J13a5POHpNnq4NcyD1UlTThWjPMp5OwwIdTpzZj1yHcaoI\n",
       "A8jbhwwv3Odce1GaJEUH1m1dxuWhIJa/wsSeOMKOZUzjXlWOlV/wr0LztNcxS/rmLWstc/oWtL2o\n",
       "ov2WRYWn5BI2aWCN4xfP6a1dNQDAZaPXAAvqA3tqm7l4upPg8L9eypmbc7iL7+zDXY0AAAGZAZ7l\n",
       "ak3/BiYyFF1WEiNmdb2MMs+Gz6zlG7IK/0qNEU7r4mATPLsw2CuzdvotzmUoLwUNNyXjYzKhi+Bv\n",
       "CZ3ou2szZ7XkOY8dNtgORZN0/t5taO9STGkBTR+mcBB2IWRR2CKOuvp2y28rGkCQ7LwwWDJEnmdf\n",
       "9Wde3nqItvqujCzZjER60Jj2SZYcGviOZEOP7/ghJuZcivixBu1zG4wr5h3Z/dT97a5g4ea5Lpes\n",
       "+UQwAbEWFViR7qvgs1ZUujZVSooLDYBwr6itKi5eOZy7d4BC+A2LgAF0f9n51ffGL95wUTS/4LWM\n",
       "PuAmaIfaMmVbFH8v8eQJEsdcYgbrR3vjKdyov9Wugk3cnb9vwU7sms0CEaWR8DeUdxWMWhkXRFsQ\n",
       "ugZcXcJukgKv4UeVhhdfQP0B1LteMY7itvNbjEFVLPd9JH1xnBld7SeL8ysQNCrvjJ7Ttz9rfGag\n",
       "Uul1tPiu+BgtKWuFJd1r9E6LOjhSOFXijD4Eq00+Hku3mjaLsa7FY763X+LVFMoaT/Hw8wq5ynMx\n",
       "KbeY+tg8zQAAAoxBmupJqEFsmUwIv/pYAQk3lsogEvG7ADtyabkv2wkd0fgwgfb+sl82vkeyYL8H\n",
       "4Uh/jqBQcNXUhe9S9f2czQ39OLwKVAifz7P3//661PPors8dvgHFmI610vfPhi5QrprMN8WcSVBh\n",
       "mcLJTk2om6IKuwSDEdF0JT3kv1pf9n63JAipKSR/NEF6fMNAAVc1fT7CkakFXsJ+RUX1joywNQLV\n",
       "xZ/YrNxxJpQRE8+wv7efApFNtvKQKPA9Iijfe8wodBFS/eKh48SN5EOpcOa73EwzeTGlJczuO50G\n",
       "EAPlLcJ0DNU3oI6nsw5/3q7ihtuevM7qnC6+XQMqsBTfkHelFDvI2wg6rwdMD9iOiJIojs4wHQmA\n",
       "BSI7oJi6ow0MiRWJGVAL2nqFj3G7wU9NaCBzxO09f/ZzjwZzHgDGZuZPxYult5RWzU6qOqguyYz3\n",
       "ZSSITPgzL4AAi5cq1VlU/e+Dcyh8X1lvqTqMtUk8Z68GuC9hgJQ8j0I9+6is/7mLDYrkalOLs42x\n",
       "JmWku1nyL/4czXmX03/L9OleFwWvnkhnHAML6+H7TVV8nbMnd6iKaSarsZZm+GC+i+WlPTIu2YJ3\n",
       "6TQXVnLXfEWjXcfxm7+GlFgA+8RH17anUVgKc8dNJw5hOZ0517kBXutvTFCAihgAeq+AY7d4B43/\n",
       "m0nf/SPbyuShsKG7/tSeOGs2AFi95nPqYNxEPhuywmvTbxQYYDBchqs+YlLeF9LTD4dI0RGurl5X\n",
       "W9mnSVPrYly3QzSMcZTaTGEkQMBVj+vuaY1KS3xwHbE825xN2U+qbPmryuGKiOm5rCrsDpLo1M62\n",
       "NhBrIyGx/5iFbPBUWPuNXPxJmASGvZpgTw509JwDvHLwyT6BAAAB90GfCEUVLX8HC0Mhq3KxoE/U\n",
       "DuJNmVHtRAt5+a//xxR5ro/LK3F7/k40WMZ/NMBSPplotBmMRssX32FqXDst2NwEusWKUFl2Bq1r\n",
       "ElTht3F0AIgDJPXA6vEbkvufQl6asgC3aul/gv/dvMei21iBq6bXjeuJ4dYrjX/v59bpeJ3WeLH3\n",
       "SQOiYU6w2FbXEVy3IZZU2HZJaCPGn0vicAwJ2/cmObNfX5jb6VPlPycFR4jqAG0UGJNsMaU21Vdv\n",
       "EjgfVH3kYkMbi8J39yUVeA+DxpxOQZzgr3RMnvHZT+RRpTjhxiZfi9yt7JRE0FzvVBhg6XDqvxDw\n",
       "vmWUvVB7sdbAOKiH3VhPYmWrNEG8qW3YCQAy+NJxSvQVxllAiZc4mRQWPVz5iJ+cX9MkpfEZbPWh\n",
       "1dLG4dJDuQwehmCFGg/XV2tbFCCCFsdnLgczUV5g4lvUhAVXBgjoyzgJijUrLk21n54j4II+hqnM\n",
       "HlNMh5CbNbkjFHGkZqmv1gDhx2UzBdxj+G1dTX40fmMxqE6b+LsQ2hTR+oJGQumFBIApmY6suFiN\n",
       "o4pPyovnkgWBr39QZXsVvozgxzz0gTj1/TrRZga9tbAClFC/DRsOVF98H0x9s1JctR9WxkULTV5d\n",
       "uj2mIfZAiDfTK12w2SqzUOFYdoW6FvOFoFiDeibWAAAB1wGfJ3RN/wYkzgz0cWvAJLipdFFoD+jl\n",
       "vUPINcsUKbvtDXz+IRMldZXP/lZKkJqZkw2Rh3Z6QqkTZl0kmAxe/4OcIREIaNOJv4AAd9V3Gmkz\n",
       "2XSj6zTGNCL0I0EVdg/OtUVKAA0EZgPPx+UaDv/DGW3Ybgx33uzM1bJgWjXOPDXBpUVf8Lu29pZV\n",
       "/r3tf8APsV/o6R30Am3rqMJPVXuwt/kNikpNONDwRPBknUQIxbbRH6KUacKf9aUo8Ewb3nswb5OH\n",
       "vmFkdUy1r6dDzA8JQAZJLxRBQ7cHGWXAI439cQxJeWvflJ7GVcbMu6GNT7kHuIKFivV8zMFa4Pk6\n",
       "DvXoAt62xwfct0y7m5OEnXV9Bzt6HLrDpa7ynCRocF2p7ZEKtN1EtBLvqqhW9SwHjg49g+5ZxlNM\n",
       "xBwdLLrgh5DA18m26tU9o238m+AVhlAD9wrjgauKNVo5OTUeOJNsz4IiD1T/4k3GjAM/sco/GO97\n",
       "/h6I9q6/ggl/wxTzebYBBP0FtUS4eBnA6StwFMp8PO5KxfoXDRxv4myFIzDd18gLdeD//hIpVvxi\n",
       "IHioydPSluBAVcTM6kDTCcwh5g5zxEbb9oRceb6QunqgjaZkCXeb8wjBoSA0SWw4ZgAAAcMBnylq\n",
       "Tf8GCR23j6oK5P4f78j2RbxJqEPKyCrCO3DQ6X5NwAR9h5Iv8+OcMmIyYKlgzEZiyEBjLx2pxXwM\n",
       "yeVoDJUI8KFtngpR3FWa0eRX/BDvbfN7tytQ+5S1hIo40Q52NITltfecBZ2ZVJxTfMpbtv2CuEsq\n",
       "iiunGuxrF0eK4kGxDSnuFbPbRF8dqwfgM16wd3GciHag9+i5kKWAPigE4z4bpF+D1O3AfkKRtFYU\n",
       "FlZvKLL7E21Ko5DgZLB74w08reMNibc/7mG8ccPAlPFO9FOLm13NOBGdqaNFV6PZDaepMUlXFuP6\n",
       "7Z42XiDwMtwv+3rzFGuzdR0QKLJKALKqWrvFA12doJBTKLkCI/spoisDR+vQhGfNvTc/tqHg81Qf\n",
       "SyOYGFp30fY/CwY/XhhmRLpfuhIefOK9UhyJdJ5TFAFfQsE8Tx3xVTYOtpYjxhi1xAtlSqjgHv+a\n",
       "gc5w8y+EiN7VxO8Gnqk6KNfcj1PtxbDJnTF7LjkfpsF608xL880H33sQAX7CtNPGYkD/Oq3tdnd3\n",
       "JxfWwBXuxD639wZwY8OuUSgDPh5JheNoPpcMB3HvSpAoMH2aNaDrD2Q754h5wajlAAAC5kGbLkmo\n",
       "QWyZTAif8yACmaMa1jt3+c9AvJiWPCzYIxluj487gySU9zw5S2I2bnH/6oXGcU1Joe66F1IUG/z+\n",
       "QirBfxwEANhD3+2ps5yXpSHYe+svtylP0gc5ce0CHGyzKE+aAkKZtEMVnlAUFDLyAaIzZ1vwu2or\n",
       "UC/+L5urhrQoRZW7nWh5Z9UrhyKGnyLZzEfK5FgRw6wHQJohflLMkushEez2507chheqijqBjpea\n",
       "L1Htay04T2wcV/B9Qyiqpz6pC6S9uitmhXO1OFdJagzueZxsrfDEEMebNRzvKYQnJsj0gnmdbTIz\n",
       "nW69gyt/97525lunQO7RY3zI+WAi5QS1XYK8/eY2e1Nebf51VtNKmU2noJ8Gd+zhsTwZiivy253J\n",
       "RSCkqRcGU3f/0M8ARXcKacTsJt7zGaawtReuKxyogRxXcw7VYligLUHPJnHlw/13vJ/CDOVmCxe8\n",
       "YhQ6rM5FevXW0FppKSjGfwpLeAEFDIB1xXKEeEip/jsUMmeE3xgg4asJHP1VQEPGf1lVGBv5i8n3\n",
       "qv4RBtQsjIFwvw9wkYpq30ww70D0h5aar9l2BZnXAhZ51PouPmL400DizuOdtSBqvv2ZFB6C3X1R\n",
       "4XKdkXo/3kd+jzVQ6Wp4f1eZ599PYfKsDQABb3X47ezgBVAjT6UZQAql1QvtnFRvoA52zbHe9qyq\n",
       "JgFCzZjEAe6IoUrW+0YNdILX5mtMOrINXs23FNzA0+7C+cSES+JUlzi5pNLEdwTUvwL0c1+H4tKB\n",
       "lhZGCnWuFp3eZlY51CZXA4KBJtdHcA6s9HqcKPS8m6iHXuUT87Qt5N/tfvgfmZwDpoRG/1BS3XWx\n",
       "o4onpj9fr9oJNR0rd+BC6Dq98SDRV348aOcmywT8Qgn9jissw0wz0p/HL7jhbnOlEZT27x53h/oi\n",
       "9pYpmoAVq8OqNpipLwrh1ycAEb3smIyJaRXGKxIq+Cs6zsO8jmWLRiTGAKGNdaupv5QUnVQAAAGH\n",
       "QZ9MRRUtfwUT0wrKyzzeHRSHB4shAYos+xUQL7Gu2m1OSzX7Br75usqRYrpFM5Ica8JgexH2rpYc\n",
       "9zTSX80UZ8PfndcaYflkHBSGh+wC38MtfbKqW91ZSIYVxkiIvt7TBhr7anwhBp/h/WhXHcZbTvgn\n",
       "0aB8x5Zass2/5CmxaR0kyanBUg9xgokzZ2puf2p3sj/tkxNKmj6BXC3If6K3bZZPTSzcEVuzB+Nb\n",
       "YSkBw1A2ZaVJTMYG2Gby65OE4NTMTnc0p8xuKEODCclY5+2yR96Wv7gLXEBbgjZ+UiT6kE9LMl8K\n",
       "wQbkTPnAlGDvOnOKYsSJTmjh/9B/nz/eAGsozKbWw9+4Z/OmfYU+FDTcK7GtM0Q64R8GcYdt7zqL\n",
       "ISCw6GA4DTnjKjtsnqmdjHQx2NhtAKkcNsBRVUGOIAxANAFQ+9lUA44mXUZOjEGvnMvg+QC/7CWL\n",
       "c1IlV1lcg2hJM68J2a2JxAVJrAn/JfnWabjkZGXd+r/WozAOFlrHWOuNYTjeZYtjgAAAAZQBn2t0\n",
       "Tf8GFeMew0kFWp1cZP7Yk3yU/tOOHby9Zola3cN+le19BVAU97XEtGkvvdeheeJROFyk4wJi22jQ\n",
       "L0Gf/kEcr+CP0j3kpsg12JxwkO7KIs1MO5cM2zEqU8Abm80zkFP+G5LiEIQbVQCaNgUbAKD5abrx\n",
       "EcWjFqtnHohAg4TC+nm+t3pljBhj8vfMYOFgXchmt1GPR1li4bhnDNZj4Bv1ImreqLorP+F/2jmd\n",
       "vUWHOCiukDfR1PJYqdgdm3HHNWoJu7mU6dc9LRPXjsDyC7JohDM9tIOuhzbKrhiqONdNUFELaicZ\n",
       "kV/8s+TJKxHPq5DHGhmRMIT16dzsP0XaB7BUo5md+Pn6Q6k2QJcM38985Im68yybIMj/rYdNVrTV\n",
       "qinB1nMR0yH4hJCjQjj3kBuWVp/mPYjqm8T3lT4vqeGvUyB1A+Jn1IYuptkXpti+hx8a+T0+uSSS\n",
       "68DSaqyuJ5xnfSu2PfZKCoRS7HofigujJQlHT+VA9748FoGoYUm1mdeNMQHJTOaz+/w2EhOUXwc2\n",
       "sQAAAZEBn21qTf8GStRYATkNyhmVbXkxehnuef4Y6ZcAgheqBG4ZAVpBvHMY/QsYuu1rlj+k2WiP\n",
       "Tckt2ecbV23+HKPzP+nXc38nhQ4MXsyzdGUoE1Tw5PJ53ctjvGNo5m1s1B6SO7wkBbBW3tyKsnV0\n",
       "YrwLKGnMz8+smQAhhGZiBCdRXDP5n24gLnPwRadeK6AzMND+EF/S+JPNtKFoDoWvQRmB1WCpZWBN\n",
       "WQkF2/2MPvjBndvaSVpHokhhmT3N+ZZpRRjD3UKFxtjxkbozjlBMBrhUmIQJNSjGlsRA20P0y0pX\n",
       "6G2/0kt/KJYqsnqyfxnvD3y6afXR8qROYepY+J/CdNByZjnlk3sEYSoUXBj1BTNiDFQkz5fmopIq\n",
       "/g7o0VjqhIbnzw9opVJ9Xg3vgqPQLBAl9kXIipa9ymHUj4SnX7y708cW+mAiMjWukTLAnx71qksK\n",
       "7JEYeToiqebwOb7Y3/k1cuqVK8Hm/Z5veu69CLqsL3uBV1abVr/ZhxIpw4HoDh3PAG1pwVoEw8yQ\n",
       "Q08AX40WwQAAAqxBm3JJqEFsmUwJ/+RAC3BBwBfyqmEZBiRCMdEMtmWKJ3nlKOz5H55nKtPg24sC\n",
       "79vSv/BoSOu4FKUDlHiMJXdEyK1+MYLDJNtajjn52OWpsFTPxe4FwwRaq+uEri/hs89Os4t1skvt\n",
       "9ax/fAUST2aWCWwwkTLTkuD5OSL5Nn++59u+Ph4ckaY5oj2KMVaBe4wJbwFimWC3DUoh0PPhGwIz\n",
       "Z+RZONiuorU+P0EqoRB+Fug1nIj0lslzV/01nsnX5pvi1Yf8wnaGpyjrb5mv4Y9qKVSGCVW6ZmEf\n",
       "m+yZY+lYHaJuup04JQ8+lS7L53IBNKYV8tQbSJ/1jQzMw+nqnk0zc5l/IILe/LCjQrveH/XKORpB\n",
       "fh2PiF2VXXUEVvUp9RKLtMvCtcssdCgusTpgPA38x0nVeHdHjFhTpWVLygCUKq8thMDNU4Xg71rF\n",
       "1yvClXQsmodKg2lG8Fn1NkEKYxK67H68IlVTJfeebI9LdaDKMzEu6V48ETzoBE5vxzxZyVzIllkD\n",
       "5viprtYQZ0xMdjEmDshKv8eRILrz0cqKkBVhYJQwpZjAuu4GhtJtIeFKDWLQTeOSyc4jZ/9+xA7D\n",
       "JirgRu4p3jZhm7CqP1d24V52qpDuAIydO8KFghktsgePkoyBzhtg3gxxM6lROrGFgma31Ixq7m1A\n",
       "GADzvOk1B7OlLDggHwXIi0THysZ4b4RKOFY65YHek12qXrcPAqaB2TBvn/+NJAe9f57zaMJ6CpbS\n",
       "mdmOUL9AWNewFYlB2qWWiaQfFl+tus9wXecf5bKBvDE38czQb2sJWfZSG1p1Qoih3U13yw3+D7Do\n",
       "WQL9P3pwW9hk1PpKUa5mnm4EazPWCTDsUeOMQowF/eNHVqBgCTJE/kICjti3jdvOrAA8JA9ncH1f\n",
       "12jEKdCON+E7BkEAAAGCQZ+QRRUtfwc6ZCOG7kTKQlt+pcL6z+lEZNQPn+25+ufwilFrNOrbrAC6\n",
       "xwr94/wU2d4bp6OD40pggtOv+THcnF6iZGVnFWMfPcU+z6gA6jmoqD3kiCzoMv08xGKNQjNCo/J5\n",
       "ec0AwOiqO+SmByeZdO+jtI4VRMyIiFYkXYSrgLemw7P2/1/mOHM1QZVfjp815fS/UE/ZsvhybJa/\n",
       "JST/Cc3xb5LkgU5Vn6A/IrETYYsuLxngShmwQ/7+d5UGyXB5JcKIsY+7+8TJHrrLV0PATEtmbv72\n",
       "E3jXcKVU3RCPqAEQ8NknyvuiCfPd0EOInzA0MCl2Ddoq3J9UqMTAOsyTdTqE00E9UwFh5/jBZ8L4\n",
       "Vm6Oycsgmqj6CmtqQFfEfPYp6o7p3gcOdNa3Dl2CKXdF/Y99BTj5sFNMSeL0VuZv+KkV8/5nLGDT\n",
       "BSJJCwQjPuEmhmI+SI2qt9eP+mztEDFu8XPPxYA/92U9TWZdfx3JeRCmEmWRS5dlrSU02KbVzyoP\n",
       "vawAAAFTAZ+vdE3/COr+swztM6gJCLKuZ++fn+qVIcAYpAivFYio/FjP3YCiAoZvIqlDrVcb0wwj\n",
       "kB3p+vjRG2xp5jGBiSzcgBVKmn3wcoIUPmsPKkmoR7NL+tFwuxl/25NI45GDKm1u7Rnqu+K4Ykq+\n",
       "IZ/oVxaXdajE+e5cOg9/tuL4HdzYzSaDpw0FQHt3J3iLKRFCNIt9yHhiAFCSZWaiJkAAHbHu7Ogz\n",
       "SwY3Uj0aiJfHo3V+Gl54EoP8MAGv1cZCjnyBldwZYoQadRChTsetv+i9VB159yeLXLeZycUnlowR\n",
       "14J1W+JQiKD0n/T35bMsvlKlO7PvPvErIWsHgo3cuNv5y16HEEZcSw3980XoEuUfnatr31b4PjJC\n",
       "BtINtLmlTfBwZxj4iIvSC6EmhjIgIUxQWCWIbJM3v8R5b7F4nfLv+koNxpNAoGE0bMQvdvHQa7yQ\n",
       "XWVgAAABxgGfsWpN/wjzjRTMg0jwQDqrd3zjfKSbr2czrgsYsamIIER/Oq1mOJcYMZvl+5222XuR\n",
       "uBvbHvcuXWB7tFzWmLZ88iKD5FGFXPmirfdSQyZDY7votiIptKg5ADd9N4oL8F9gj9sBaQG+/J34\n",
       "455EGBMJ1cV8CBVWhfoSVcxxgo49cXIge/iD7CCNuJVhDcjVDbYOVPCqoGx/Qb6/UgO2B/v3+JJI\n",
       "QwtngrmF9hGWq9tKtduRolOO7/YYIpc+dAzwCoASiRDldMVuM5OAsf7disD1k1RfyxLbbX3ep46I\n",
       "k/gvK9NSf2kSr0xSlbw36mrtH9YxZUtwxx62J9GtVXjem08JvWfNRnOhtl9I3b2Yj2OrUH55RxQf\n",
       "UiUOlee32qPlNmng65cfeX+H/Qd5021wuaqM+z9tD6Zf9dLfrdHktY0o/JYRlWtAhJG5EMOTb7jv\n",
       "S8Wra9VdafuOrwCo0kMBvrh7/vBfVbcx9MfrbMVBiSCKo+oiT4n2FdYqI5Prmu3ZeSIDc5ML8s2i\n",
       "SppIaRb6GkGmb8QUeQ8knQYRXJw9NRQl90De+3SKr8B+my+O2+FRms61CRmD7kQRkE/OQ4cf7jvr\n",
       "w4gYekEAAAK3QZu2SahBbJlMCX+HACy0S0WwjnAPKN+1uOaSSnM0TJta//nqG6Etf010dByiq0kr\n",
       "FIi9DtCJrjxDQeg1WAhu+MK2LeX/EkBCCRJLYEFKg0rpSLxtaBakSB17xk7B/UY0+ZoiKnM1q925\n",
       "Fj137/yYPQQXO5H9QsZ5bn/bM3P4y/7w5+XA+fsQcx+wjHjvcVZFiRXZMhtob76+zDHZw3ECD+8x\n",
       "6Nhj2ikkLQz9sf/KTTfPCvY+l+QY16WbRWhNxN0+P4ghHevPR9CKgEAe1uHfl/YlWwRScqLwZkXV\n",
       "zkMK2oKLOTGsq9RGlRilZC3G1Q7YNItWQCIxjJLVvpdJ9SwNq+7nKgSP8h//Z9Isq1TLeLgAp2OV\n",
       "wopOpMJWtZ9aYaSmsbG06vEMxwu+QqeLwz+BfZsq0x/52CO8uHdrx1DIkHvN0cFICaAKhqlAAEnQ\n",
       "/Wd7q0/YRZZ/tSylvrvtuR+Zo7LfcziorDngLeLjYQcRDRp4eu0QypoyIlZorFy/ekwwNnRBUZIk\n",
       "4q+28atjEfIIGVt+ySgdgpjNhMow+ISNh9z9bcF0UO5xbkNiBJZm6KjNicBs3WUkk/AubVIph/HX\n",
       "YTZYJ2Lsk74ztGzh2zGk/q6su3E+fMyFbZQvpDPX126g59oNFRW/EFERkVKAUDdwk5FxzWR6AM7+\n",
       "guXn5dfMr8wVXAPandZXwAfBIxWF+p/LftfYM4IPm0V6GFQk3cGCIi0L0Y224HBH53naXt0xkDs4\n",
       "PHlLqO7uDhKqQLEKT+OGKJVQe+lAxOJ5sQ/WqiF6VQ57AqZvnkqq9Nb0SuNGGt6ARw/LKpJBurNj\n",
       "aGEtj/iKjwGnhOf57joXKSR6dsvpv7SzOw9vSXB0iO5LfEGtxifRnoVp3QA9jysWqAB+J3vaCadW\n",
       "JgOpx2kFLvdp+TT8zZSR6k019OAAAAHCQZ/URRUtfwc6L7DbXOOzx79gYQIh+IF0hiGtJPV3WulR\n",
       "tyDGXB6xmZfk7XpMb7pjGUsidbBBbzvF5TfUktMLz3Wiuy5KQDuH4sPFzoRodlIxJ4h3NyNvBtrc\n",
       "x7ADLvalkJ6v9rIOD4mvKjXz7+8x2+ylgb/S9/RZEcoGPEDeTCh+Vylh6Fb/zcRlxS5jDray3b78\n",
       "/3rb0IeFdbZjYsvTvs5CeitJ8j93ghWgWgKD83sVHxSx4/TOdqla8L2HPowLCyRJk20D/8ykOPMs\n",
       "Zcp2dUPCYhyD56dff6LHGoQhLNVY0gt+OSjMn2QeTyGHHGjQ1YDif3Wa/16g7pjPK2bWoZuYHzbd\n",
       "iPSykigIFqQzx+pu9EqabJkWoA5wLFxjjokQh49kqVgIYAfi35knalDTIf5/hPdDGyuFYYA8SoSp\n",
       "+VD1SlLGD8yCFHmsqUUOWEjGUy1rSUulBmtql5XK4e3PuHf+JVEm+Eiar19s0ZYnlPEM5J/0DrJw\n",
       "U8yIjjxSh/XE33v/8XTCuZZBdxKrkbVHrgJSRhRKWzWVnoj1KQkAZz8aWElxX0gyACtWGeONm2WV\n",
       "Keu7RjZ4tiayUu3Oi9xis3EhAAABTgGf83RN/wjUBDZBGTx4Kaso5vLep1mBps62cYVBVS9q5F3t\n",
       "qZs1tAph/WgwKrc5Chn0X8zOBlvpae5BNh5+uLbyz4Rnzd3U7ONHJvF9PCqIDC/h9+oYHPd4aEui\n",
       "Mcw8aKHlpwfqo0RMIxvapRKNH1h1q36trmPou+dsKfZyRZVRAQfXvNWDDA7SqkEYvkAxQimuk4jt\n",
       "F6X6ZDXFa96wQptwCqM6uapozb2SC2+2WWUa6sYl4mx56ZOU/E5XafKhQEXN6GiKwMeFyWsKARNQ\n",
       "TPycvSPabFVzaoQZ0VrSAX7GUJGMxkE0AH3o5fn7mGb7tIKbtEhnyZnwY2J9/NrELz9MLthuKKgB\n",
       "FxK7hFdBJKIsyY9WiDeYz1csbHWg9JvrMGwNYnn/9WRV4hJP/y5QaYCCLL/dm/xr9jXt6nXjHoxj\n",
       "LiZj1UKD1plX7LppXoMAAAGKAZ/1ak3/DI5K0M0NAOMZvR2oEYr4v3oVaOnPhr6BcxgdyCdUheBa\n",
       "zDo9bxzv0FCsvcnLw0QWgHAgLQc+zWC0hNMijPNKgAARphyrjMgBJJ5Xq1bN03IGS8WkhGYgCayy\n",
       "s/gVKzCbPwt654/btFnmWlcMq9U6MxeaOuYeHU5nIRmzA1nRdbSk1oWdzxs5zx5SEWHXXPMJ4WTe\n",
       "Yve1zABVvb/921+bRxG3Gcr8PnlySs+qn3YVuHZRuIKDiFeUCeFSLmaJ5yPz19QCU0/6gLvYl5EI\n",
       "PUsHEnQjlJ6VV7isnZdwVzhs3Gzh/mowqse8kJmV+LxFqz8DN2uSBj3oyGpgLqUdNjcpXKqSVvaP\n",
       "PBy3OZW9J7lOKs9elqY5EFMYk74pFD8SGCI2Iy6eEK8Ba/6dkTX0PKsN474Go6uZaQR0Q+oc/yh8\n",
       "qwpOh/u2myJkcOAfdWicrFXTkrCvmDXTpUD/s6KwHBe4HCPp6PtdhiLa0TqXXsVJ6ZdIKIVi2n2z\n",
       "A1qM0v0ggAyClknlCAAAAkhBm/pJqEFsmUwK/wACjuGWjUWUD/YknVWDcH4osQXpnlTiuD+2RN+P\n",
       "4hUNEr1VEfAGOMYCkueKUt9jQiJimgEi3yJeQSv1JwrLHpAO3gZXdQ6iYX7zqgyDJn4LP1tdgf85\n",
       "mZzHc1LApsWEqbl5mIvxhFx+Tfd8LFMq6XKkYemWEPQXbEjTqzMdG01+nyjUw9sv9y+Uq/lqcr7m\n",
       "ddqKJwfx85S5qyCFKzPri5GRWDSZgADpQrt1rQ2bFYt1D0MIX6B5/+/6dfIVclNBANxyUslTuxHG\n",
       "mShEKHzP/Cz+yU/VetmH9HgNLke5Z0BcwITGS/7gOMPeY1PY5T6Fz/fuv99k5a1BzWA7djS07I+K\n",
       "lBQS6aSkZp+B969IMQUky1kvOry9cryezATqUXzjJjxBvlWalcE5gD3RfTendnooK7ZTv4EpuWr1\n",
       "KMi/G49q3sXE90zmugcv1jf4xAB3AxgeK2DnriypXNn5vcFyHVbXsr3dFv2GpxCKNnueKMU3Gd/n\n",
       "2+XUBNJS5UfAnmdYAco1qc4SJFTaajSU+mWxJzdyxDoztCczvAhdHS94i6U/GJhOzRiuldpTQPQ6\n",
       "hg/5ti+dYsyRnQsJB4V+UfwytbkjmUCHl6EvCAJX9cB1RQfWV0Wk7gYxNQcW7Wv8wghasekfHrQN\n",
       "4fxNPnch0tJK6dCSnp5/7nSgBX0+g0FCgVjrrg/6dwfpuDmjl/VyAoWZwyjGjrZq61lY5/zuc/y7\n",
       "nyYaeyCRbRYu2B0K/QFLsRG6C/30WTL4ns/BcEraUQAAAWVBnhhFFS1/B0OOvrPOkNkScg0TAvlh\n",
       "JVYe/pqbGnJh/ReHWOqp97dOAVCUF3HsRM96MJTM/rNPZ8fKTzXPuZvvsEgGbGpvbVe4410UC0Vv\n",
       "dpzgCOpPm0w4sMhjxyJhTawK37d4NYW8BYXJU0ebSzgMEQYcDydo2dM0/UuOGnh8VKalfZ1ZbuyK\n",
       "pNiX91jKMqBjgGvqduXJej9q6WvCJyRx22mPO72KdT5496FSlfAT/hmiW4bdQG95C6wBbH7ZYxMi\n",
       "nlS1CN4IRZ7AKfYlfiEiXbrNzvjzfraAPsYaGjZNYsAfwgBiTQrq1d7S7mlWbmoM4uxPHo0w0I2O\n",
       "eWwe8olk8svTd84tBGWz9P1jdyOM1rKUZrYQVP4Rl0ASBKBeSAdNyTSnIkI2rN1jXr0y/4fgwtkh\n",
       "LuLWMGf2UkeoGdp5RO0PyNSB5f4pJPhjroNC2QRk94ijt+HXGdYIUWERPft9WUMcnvkAAAFkAZ43\n",
       "dE3/CNQEOogS9i2Qc3u5QzRAnyySJroztYd4dbR0m/mM18JBKzztmHeiLBuBgaEj4vce1mUj6z6w\n",
       "FHrR17KAD1FM0tuPJMfBQ4P+HgQYWebRrlyCoWF9ag6ZuknuOT8iLea9AchwjTYegZDaDxWRikJR\n",
       "xIiLJsGldEJ73OE4hA32CoIuwzcZBq3sBynIi36+N23w8xU9EknXRcX+fnj4cQhNeibwaKJ7eXGQ\n",
       "XLBiALb7Cri1F+DQMiZIgFKnNTOIT7uWUxjJy6fgH5sM4ttGbV7hLiFUT5E5MAAFvMlivFpAmvmf\n",
       "oTBvgFhhCnS/GY2JYrA17KMO93NDsLzAiCCa2pAC2+pVG+7/AGr53FiSFfnRaM5yG+CswmaEmuPE\n",
       "+WH4Xrjld1mSE9FLwDplz2/v+gcEYQo/hOZxIsoO/30mUgFPKTPtyi9EzR1LxC8OCI9Lj9BOuKMa\n",
       "B0YEWvO4iLXDhEAAAADsAZ45ak3/CNnRYsEg6H4SCNAP3rbO+KlkwEsUObm0VMHdDq/esJlgK8KS\n",
       "dtRHNIknLz4Vq+V1HA39Zo4j77uUCrTj8q2RWE8JJshV9Z35h+6+vm3fPP4wzVP4p/DFPwzaP+UU\n",
       "FVo47X7wyQy0ZGCwYF05Lx103LAODMyNYgn6lhCMZeCrbL03TKehRv4gNfbm858+8ipZ1ehCB7UM\n",
       "hsUpBAdor1qlleU6ueEXblcDx9VhlmnOI3cCgYh/NQot0T98ut1mgRrQHSRdSw8s2Qojbd+b4hcB\n",
       "AOSeacArS+P/9yZ+pJlXCdUD4ACnfLEAAAD+QZo7SahBbJlMCb8ACWwrn/xdCbMqTQZixBc4K8kd\n",
       "ER5UVT8dMdYufBrnxk8gQMAOj8eWIwRm1UEU1QaW4KI6dmpQPxOIaABJIz53uW8l5ifwDpgCowxu\n",
       "23GeNBDY7sRs4RrysqLxwu1+xu3Th8hJt0ch73mLL/dNAk64H5nCkpHEQ8FE6LMCzd7KkLJGx0y/\n",
       "0JcwjMOBO/PTFmXeC/0k71qmFGvotAUGi84OJd/HUyfk/HAlI5a5MbtLelcMKXguy1sJdlc/3hQs\n",
       "JepbdL9UhgTLUHW/al8+sc/pOfVyg6zm7bosCbMZanMDDLd6FQpY1Z2rIDZ31KjJzGJEZmAAAAa1\n",
       "bW9vdgAAAGxtdmhkAAAAAAAAAAAAAAAAAAAD6AAAB9AAAQAAAQAAAAAAAAAAAAAAAAEAAAAAAAAA\n",
       "AAAAAAAAAAABAAAAAAAAAAAAAAAAAABAAAAAAAAAAAAAAAAAAAAAAAAAAAAAAAAAAAAAAAAAAgAA\n",
       "ABhpb2RzAAAAABCAgIAHAE/////+/wAABcl0cmFrAAAAXHRraGQAAAAPAAAAAAAAAAAAAAABAAAA\n",
       "AAAAB9AAAAAAAAAAAAAAAAAAAAAAAAEAAAAAAAAAAAAAAAAAAAABAAAAAAAAAAAAAAAAAABAAAAA\n",
       "AOAAAADgAAAAAAAkZWR0cwAAABxlbHN0AAAAAAAAAAEAAAfQAAAAAgABAAAAAAVBbWRpYQAAACBt\n",
       "ZGhkAAAAAAAAAAAAAAAAAAAAHgAAADxVxAAAAAAALWhkbHIAAAAAAAAAAHZpZGUAAAAAAAAAAAAA\n",
       "AABWaWRlb0hhbmRsZXIAAAAE7G1pbmYAAAAUdm1oZAAAAAEAAAAAAAAAAAAAACRkaW5mAAAAHGRy\n",
       "ZWYAAAAAAAAAAQAAAAx1cmwgAAAAAQAABKxzdGJsAAAAmHN0c2QAAAAAAAAAAQAAAIhhdmMxAAAA\n",
       "AAAAAAEAAAAAAAAAAAAAAAAAAAAAAOAA4ABIAAAASAAAAAAAAAABAAAAAAAAAAAAAAAAAAAAAAAA\n",
       "AAAAAAAAAAAAAAAAAAAAGP//AAAAMmF2Y0MBZAAM/+EAGWdkAAys2UOHbAWyAAADAAIAAAMAeB4o\n",
       "UywBAAZo6+PLIsAAAAAYc3R0cwAAAAAAAAABAAAAPAAAAAEAAAAUc3RzcwAAAAAAAAABAAAAAQAA\n",
       "AcBjdHRzAAAAAAAAADYAAAAHAAAAAgAAAAEAAAAFAAAAAQAAAAIAAAABAAAAAAAAAAEAAAABAAAA\n",
       "AQAAAAUAAAABAAAAAgAAAAEAAAAAAAAAAQAAAAEAAAABAAAABQAAAAEAAAACAAAAAQAAAAAAAAAB\n",
       "AAAAAQAAAAEAAAAFAAAAAQAAAAIAAAABAAAAAAAAAAEAAAABAAAAAQAAAAUAAAABAAAAAgAAAAEA\n",
       "AAAAAAAAAQAAAAEAAAABAAAABQAAAAEAAAACAAAAAQAAAAAAAAABAAAAAQAAAAEAAAAFAAAAAQAA\n",
       "AAIAAAABAAAAAAAAAAEAAAABAAAAAQAAAAUAAAABAAAAAgAAAAEAAAAAAAAAAQAAAAEAAAABAAAA\n",
       "BQAAAAEAAAACAAAAAQAAAAAAAAABAAAAAQAAAAEAAAAFAAAAAQAAAAIAAAABAAAAAAAAAAEAAAAB\n",
       "AAAAAQAAAAUAAAABAAAAAgAAAAEAAAAAAAAAAQAAAAEAAAABAAAABQAAAAEAAAACAAAAAQAAAAAA\n",
       "AAABAAAAAQAAAAEAAAAFAAAAAQAAAAIAAAABAAAAAAAAAAEAAAABAAAAAQAAAAIAAAAcc3RzYwAA\n",
       "AAAAAAABAAAAAQAAAAEAAAABAAABBHN0c3oAAAAAAAAAAAAAADwAABbuAAACZwAAAhcAAAMUAAAC\n",
       "bgAAAooAAAKxAAACjQAAAYcAAADsAAABJwAAA38AAAIwAAABHQAAATgAAAMSAAAB+AAAAU4AAAFZ\n",
       "AAACwAAAAZIAAAGAAAABDAAAAu0AAAFsAAABbwAAAaIAAAIkAAACCAAAAcwAAAFGAAAC2AAAAcUA\n",
       "AAHrAAABawAAAm8AAAGbAAABjQAAAZ0AAAKQAAAB+wAAAdsAAAHHAAAC6gAAAYsAAAGYAAABlQAA\n",
       "ArAAAAGGAAABVwAAAcoAAAK7AAABxgAAAVIAAAGOAAACTAAAAWkAAAFoAAAA8AAAAQIAAAEAc3Rj\n",
       "bwAAAAAAAAA8AAAAMAAAFx4AABmFAAAbnAAAHrAAACEeAAAjqAAAJlkAACjmAAAqbQAAK1kAACyA\n",
       "AAAv/wAAMi8AADNMAAA0hAAAN5YAADmOAAA63AAAPDUAAD71AABAhwAAQgcAAEMTAABGAAAAR2wA\n",
       "AEjbAABKfQAATKEAAE6pAABQdQAAUbsAAFSTAABWWAAAWEMAAFmuAABcHQAAXbgAAF9FAABg4gAA\n",
       "Y3IAAGVtAABnSAAAaQ8AAGv5AABthAAAbxwAAHCxAABzYQAAdOcAAHY+AAB4CAAAesMAAHyJAAB9\n",
       "2wAAf2kAAIG1AACDHgAAhIYAAIV2AAAAYHVkdGEAAABYbWV0YQAAAAAAAAAhaGRscgAAAAAAAAAA\n",
       "bWRpcmFwcGwAAAAAAAAAAAAAAAAraWxzdAAAACOpdG9vAAAAG2RhdGEAAAABAAAAAExhdmY1NC4y\n",
       "MC40\n",
       "\" type=\"video/mp4\">Unsupported tag</video>"
      ],
      "text/plain": [
       "<IPython.core.display.HTML object>"
      ]
     },
     "execution_count": 40,
     "metadata": {},
     "output_type": "execute_result"
    }
   ],
   "source": [
    "IPython.display.HTML(vs.displayHTML(outputName))"
   ]
  }
 ],
 "metadata": {
  "kernelspec": {
   "display_name": "Python 2",
   "language": "python",
   "name": "python2"
  },
  "language_info": {
   "codemirror_mode": {
    "name": "ipython",
    "version": 2
   },
   "file_extension": ".py",
   "mimetype": "text/x-python",
   "name": "python",
   "nbconvert_exporter": "python",
   "pygments_lexer": "ipython2",
   "version": "2.7.10"
  }
 },
 "nbformat": 4,
 "nbformat_minor": 0
}
